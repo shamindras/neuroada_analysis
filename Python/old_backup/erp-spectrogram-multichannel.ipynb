{
 "cells": [
  {
   "cell_type": "markdown",
   "metadata": {},
   "source": [
    "# Spectrogram setup in Python"
   ]
  },
  {
   "cell_type": "markdown",
   "metadata": {},
   "source": [
    "### Import key libraries and setup"
   ]
  },
  {
   "cell_type": "code",
   "execution_count": 3,
   "metadata": {},
   "outputs": [],
   "source": [
    "from scipy import signal\n",
    "import matplotlib.pyplot as plt\n",
    "import numpy as np\n",
    "from sklearn.decomposition import NMF\n",
    "import random"
   ]
  },
  {
   "cell_type": "markdown",
   "metadata": {},
   "source": [
    "### Import all ERP Trials for P35 - Category Faces, Session 1 - Channel 1 + Channel 2 separately"
   ]
  },
  {
   "cell_type": "code",
   "execution_count": 7,
   "metadata": {},
   "outputs": [],
   "source": [
    "p35_chn_01 = \"/Users/shamindras/PERSONAL/LEARNING/REPOS/neuroada_analysis/data/localizer_erp/P35_specgram/P35-ses-01-chn-01-Faces.csv\"\n",
    "p35_chn_02 = \"/Users/shamindras/PERSONAL/LEARNING/REPOS/neuroada_analysis/data/localizer_erp/P35_specgram/P35-ses-01-chn-02-Faces.csv\""
   ]
  },
  {
   "cell_type": "code",
   "execution_count": 8,
   "metadata": {},
   "outputs": [
    {
     "name": "stdout",
     "output_type": "stream",
     "text": [
      "(83, 1500)\n",
      "(83, 1500)\n"
     ]
    }
   ],
   "source": [
    "p35_chn_01_trials = np.loadtxt(fname = p35_chn_01, skiprows = 1, delimiter = \",\")\n",
    "p35_chn_02_trials = np.loadtxt(fname = p35_chn_02, skiprows = 1, delimiter = \",\")\n",
    "print(p35_chn_01_trials.shape)\n",
    "print(p35_chn_02_trials.shape)"
   ]
  },
  {
   "cell_type": "markdown",
   "metadata": {},
   "source": [
    "**Check:** *As expected we have 83 trials for the faces category and 1500 individual millisecond timepoints*"
   ]
  },
  {
   "cell_type": "markdown",
   "metadata": {},
   "source": [
    "### Extract a Single trial to plot the relevant spectrogram"
   ]
  },
  {
   "cell_type": "code",
   "execution_count": 9,
   "metadata": {},
   "outputs": [
    {
     "data": {
      "text/plain": [
       "(1500,)"
      ]
     },
     "execution_count": 9,
     "metadata": {},
     "output_type": "execute_result"
    }
   ],
   "source": [
    "p35_chn_01_samp = p35_chn_01_trials[2]\n",
    "p35_chn_01_samp.shape"
   ]
  },
  {
   "cell_type": "markdown",
   "metadata": {},
   "source": [
    "**Check:** *As expected we have 1 trial for the faces category and 1500 individual millisecond timepoints*"
   ]
  },
  {
   "cell_type": "code",
   "execution_count": 10,
   "metadata": {},
   "outputs": [],
   "source": [
    "def samp_idx_without_replace(np_arr, samp_prop=0.5):\n",
    "    tot_num_rows = np_arr.shape[0]\n",
    "    samp_num_rows = int(np.floor(tot_num_rows * samp_prop))\n",
    "    #print(tot_num_rows)\n",
    "    #print(samp_num_rows)    \n",
    "    # TODO: technically we don't need to sort for operational purposes. Consider removing this\n",
    "    return sorted(random.sample(range(tot_num_rows), samp_num_rows))"
   ]
  },
  {
   "cell_type": "code",
   "execution_count": 11,
   "metadata": {},
   "outputs": [],
   "source": [
    "test_sampling = samp_idx_without_replace(np_arr=p35_chn_01_trials, samp_prop=0.2)"
   ]
  },
  {
   "cell_type": "markdown",
   "metadata": {},
   "source": [
    "### Produce the Spectrogram for a Single Trial"
   ]
  },
  {
   "cell_type": "code",
   "execution_count": 12,
   "metadata": {},
   "outputs": [],
   "source": [
    "def erp_gen_spectrogram(x, fs = 1e3, window = 'hann', nperseg = 128, noverlap = 96):\n",
    "    \"\"\"Generate the spectrogram and return the log of the modulus\"\"\"\n",
    "    f, t, Sxx = signal.spectrogram(x = x, fs = fs, window = window, nperseg = nperseg, noverlap = noverlap)\n",
    "    return f, t, Sxx"
   ]
  },
  {
   "cell_type": "code",
   "execution_count": 17,
   "metadata": {},
   "outputs": [],
   "source": [
    "spec_out = erp_gen_spectrogram(x = p35_chn_01_samp)"
   ]
  },
  {
   "cell_type": "code",
   "execution_count": 18,
   "metadata": {},
   "outputs": [
    {
     "data": {
      "image/png": "[encoded data removed]",
      "text/plain": [
       "<Figure size 432x288 with 1 Axes>"
      ]
     },
     "metadata": {},
     "output_type": "display_data"
    }
   ],
   "source": [
    "plt.pcolormesh(spec_out[1], spec_out[0], np.log(spec_out[2]))\n",
    "plt.ylabel('Frequency [Hz]')\n",
    "plt.xlabel('Time [sec]')\n",
    "plt.show()"
   ]
  },
  {
   "cell_type": "code",
   "execution_count": 29,
   "metadata": {},
   "outputs": [
    {
     "data": {
      "text/plain": [
       "(65, 43)"
      ]
     },
     "execution_count": 29,
     "metadata": {},
     "output_type": "execute_result"
    }
   ],
   "source": [
    "Sxx = spec_out[2]\n",
    "filter_rows_idx = range(65)\n",
    "Sxx[filter_rows_idx].shape"
   ]
  },
  {
   "cell_type": "code",
   "execution_count": 10,
   "metadata": {},
   "outputs": [
    {
     "name": "stdout",
     "output_type": "stream",
     "text": [
      "spectrogram: (65, 43)\n",
      "t: (65,)\n",
      "f: (43,)\n"
     ]
    }
   ],
   "source": [
    "print(\"spectrogram\", spec_out[2].shape, sep = \": \")\n",
    "print(\"t\", spec_out[0].shape, sep = \": \")\n",
    "print(\"f\", spec_out[1].shape, sep = \": \")"
   ]
  },
  {
   "cell_type": "code",
   "execution_count": 11,
   "metadata": {},
   "outputs": [
    {
     "data": {
      "text/plain": [
       "10"
      ]
     },
     "execution_count": 11,
     "metadata": {},
     "output_type": "execute_result"
    }
   ],
   "source": [
    "test = [erp_gen_spectrogram(x = p35_chn_01_trials[idx])[2] for idx in range(10)]\n",
    "len(test)"
   ]
  },
  {
   "cell_type": "code",
   "execution_count": 12,
   "metadata": {},
   "outputs": [
    {
     "data": {
      "text/plain": [
       "(65, 430)"
      ]
     },
     "execution_count": 12,
     "metadata": {},
     "output_type": "execute_result"
    }
   ],
   "source": [
    "b = np.hstack(test)\n",
    "b.shape"
   ]
  },
  {
   "cell_type": "markdown",
   "metadata": {},
   "source": [
    "# Get combined spectrogram for a range of trials"
   ]
  },
  {
   "cell_type": "code",
   "execution_count": 13,
   "metadata": {},
   "outputs": [],
   "source": [
    "def specgram_trials(arr_all_trials, samp_prop):\n",
    "    \"\"\"Produce a combined list of spectrograms concatenated by frequency (horizontally)\"\"\"\n",
    "    samp_idx = samp_idx_without_replace(np_arr=arr_all_trials, samp_prop=samp_prop)\n",
    "    trial_specgrams = [erp_gen_spectrogram(x = arr_all_trials[idx])[2] for idx in samp_idx]\n",
    "    comb_specgram = np.hstack(trial_specgrams)\n",
    "    return comb_specgram"
   ]
  },
  {
   "cell_type": "markdown",
   "metadata": {},
   "source": [
    "## Perform NMF to decompose the spectrogram V as W times H"
   ]
  },
  {
   "cell_type": "code",
   "execution_count": 14,
   "metadata": {},
   "outputs": [],
   "source": [
    "def nmf_specgrams(comb_specgram, n_components=5, init='random', random_state=0, beta_loss='itakura-saito', solver = 'mu'):\n",
    "    model = NMF(n_components=n_components, init=init, random_state=random_state, beta_loss=beta_loss, solver=solver)\n",
    "    W = model.fit_transform(X=comb_specgram)\n",
    "    H = model.components_\n",
    "    return W, H"
   ]
  },
  {
   "cell_type": "markdown",
   "metadata": {},
   "source": [
    "## Wrap it into a single function"
   ]
  },
  {
   "cell_type": "code",
   "execution_count": 15,
   "metadata": {},
   "outputs": [],
   "source": [
    "def nmf_wrapper(arr_all_trials, samp_prop=0.5, n_components=5, init='random', random_state=0, beta_loss='itakura-saito', solver = 'mu'):\n",
    "    comb_specgram = specgram_trials(arr_all_trials=arr_all_trials, samp_prop=samp_prop)\n",
    "    W, H = nmf_specgrams(comb_specgram, n_components=n_components, init=init, random_state=random_state, beta_loss=beta_loss, solver=solver)\n",
    "    print(\"V\", comb_specgram.shape, sep = \": \")\n",
    "    print(\"W\", W.shape, sep = \": \")\n",
    "    print(\"H\", H.shape, sep = \": \")\n",
    "    return comb_specgram, W, H"
   ]
  },
  {
   "cell_type": "markdown",
   "metadata": {},
   "source": [
    "### Plot the \"basis\" vectors i.e. columns of W"
   ]
  },
  {
   "cell_type": "code",
   "execution_count": 17,
   "metadata": {},
   "outputs": [],
   "source": [
    "def plotW(W, log=True):\n",
    "    if log:\n",
    "        W_plt = np.log(W)\n",
    "    else:\n",
    "        W_plt = W\n",
    "    n_components = W.shape[1]    \n",
    "    for n in range(W.shape[1]):\n",
    "        plt.subplot(np.ceil(n_components/2.0), 2, n+1)\n",
    "        plt.plot(W_plt[:,n])\n",
    "        plt.ylim(-2, W_plt.max())\n",
    "        plt.xlim(0, W_plt.shape[0])\n",
    "        plt.ylabel('Component %d' % n)"
   ]
  },
  {
   "cell_type": "code",
   "execution_count": 28,
   "metadata": {},
   "outputs": [
    {
     "data": {
      "image/png": "[encoded data removed]",
      "text/plain": [
       "<Figure size 432x288 with 5 Axes>"
      ]
     },
     "metadata": {},
     "output_type": "display_data"
    }
   ],
   "source": [
    "plotW(W = W1, log=True)"
   ]
  },
  {
   "cell_type": "markdown",
   "metadata": {},
   "source": [
    "### Plot the rows of H i.e. the temporal activations"
   ]
  },
  {
   "cell_type": "code",
   "execution_count": 19,
   "metadata": {},
   "outputs": [],
   "source": [
    "def plotH(H, log=False):\n",
    "    if log:\n",
    "        H_plt = np.log(H)\n",
    "    else:\n",
    "        H_plt = H\n",
    "    n_components = H.shape[0]    \n",
    "    for n in range(H.shape[0]):\n",
    "        plt.subplot(np.ceil(n_components/2.0), 2, n+1)\n",
    "        plt.plot(H[n])\n",
    "        plt.ylim(0, H.max())\n",
    "        plt.xlim(0, H.shape[1])\n",
    "        plt.ylabel('Component %d' % n)"
   ]
  },
  {
   "cell_type": "markdown",
   "metadata": {},
   "source": [
    "# Channel 1 - P35, Faces, Session 1"
   ]
  },
  {
   "cell_type": "code",
   "execution_count": 34,
   "metadata": {},
   "outputs": [
    {
     "data": {
      "text/plain": [
       "2498.2999999999997"
      ]
     },
     "execution_count": 34,
     "metadata": {},
     "output_type": "execute_result"
    }
   ],
   "source": [
    "43*83*0.7"
   ]
  },
  {
   "cell_type": "code",
   "execution_count": 32,
   "metadata": {},
   "outputs": [
    {
     "name": "stdout",
     "output_type": "stream",
     "text": [
      "V: (65, 2494)\n",
      "W: (65, 5)\n",
      "H: (5, 2494)\n"
     ]
    },
    {
     "name": "stderr",
     "output_type": "stream",
     "text": [
      "/Users/shamindras/anaconda/envs/sklearnprod1/lib/python3.6/site-packages/sklearn/decomposition/nmf.py:1035: ConvergenceWarning: Maximum number of iteration 200 reached. Increase it to improve convergence.\n",
      "  \" improve convergence.\" % max_iter, ConvergenceWarning)\n"
     ]
    }
   ],
   "source": [
    "V1, W1, H1 = nmf_wrapper(arr_all_trials=p35_chn_01_trials, samp_prop=0.7, n_components=5, \n",
    "                         init='random', random_state=0, beta_loss='itakura-saito', solver = 'mu')"
   ]
  },
  {
   "cell_type": "code",
   "execution_count": 22,
   "metadata": {},
   "outputs": [
    {
     "data": {
      "image/png": "[encoded data removed]",
      "text/plain": [
       "<Figure size 432x288 with 5 Axes>"
      ]
     },
     "metadata": {},
     "output_type": "display_data"
    }
   ],
   "source": [
    "plotW(W = W1, log=True)"
   ]
  },
  {
   "cell_type": "code",
   "execution_count": 31,
   "metadata": {},
   "outputs": [
    {
     "name": "stderr",
     "output_type": "stream",
     "text": [
      "/Users/shamindras/anaconda/envs/sklearnprod1/lib/python3.6/site-packages/ipykernel_launcher.py:3: RuntimeWarning: divide by zero encountered in log\n",
      "  This is separate from the ipykernel package so we can avoid doing imports until\n"
     ]
    },
    {
     "data": {
      "image/png": "[encoded data removed]",
      "text/plain": [
       "<Figure size 432x288 with 5 Axes>"
      ]
     },
     "metadata": {},
     "output_type": "display_data"
    }
   ],
   "source": [
    "plotH(H = H1, log=True)"
   ]
  },
  {
   "cell_type": "markdown",
   "metadata": {},
   "source": [
    "# Channel 2 - P35, Faces, Session 1"
   ]
  },
  {
   "cell_type": "code",
   "execution_count": 24,
   "metadata": {},
   "outputs": [
    {
     "name": "stdout",
     "output_type": "stream",
     "text": [
      "V: (65, 2494)\n",
      "W: (65, 5)\n",
      "H: (5, 2494)\n"
     ]
    },
    {
     "name": "stderr",
     "output_type": "stream",
     "text": [
      "/Users/shamindras/anaconda/envs/sklearnprod1/lib/python3.6/site-packages/sklearn/decomposition/nmf.py:1035: ConvergenceWarning: Maximum number of iteration 200 reached. Increase it to improve convergence.\n",
      "  \" improve convergence.\" % max_iter, ConvergenceWarning)\n"
     ]
    }
   ],
   "source": [
    "V2, W2, H2 = nmf_wrapper(arr_all_trials=p35_chn_02_trials, samp_prop=0.7, n_components=5, \n",
    "                         init='random', random_state=0, beta_loss='itakura-saito', solver = 'mu')"
   ]
  },
  {
   "cell_type": "code",
   "execution_count": 25,
   "metadata": {},
   "outputs": [
    {
     "data": {
      "image/png": "[encoded data removed]",
      "text/plain": [
       "<Figure size 432x288 with 5 Axes>"
      ]
     },
     "metadata": {},
     "output_type": "display_data"
    }
   ],
   "source": [
    "plotW(W = W2, log=True)"
   ]
  },
  {
   "cell_type": "code",
   "execution_count": 30,
   "metadata": {},
   "outputs": [
    {
     "name": "stderr",
     "output_type": "stream",
     "text": [
      "/Users/shamindras/anaconda/envs/sklearnprod1/lib/python3.6/site-packages/ipykernel_launcher.py:3: RuntimeWarning: divide by zero encountered in log\n",
      "  This is separate from the ipykernel package so we can avoid doing imports until\n"
     ]
    },
    {
     "data": {
      "image/png": "[encoded data removed]",
      "text/plain": [
       "<Figure size 432x288 with 5 Axes>"
      ]
     },
     "metadata": {},
     "output_type": "display_data"
    }
   ],
   "source": [
    "plotH(H = H2, log=True)"
   ]
  },
  {
   "cell_type": "markdown",
   "metadata": {},
   "source": [
    "### Next Steps:\n",
    "\n",
    "* How to interpret these results clearly for a single trial?\n",
    "* How to determine the number of components in the NMF?\n",
    "* How to combine results across trials?\n",
    "* How to capture the uncertainty in this measure? "
   ]
  }
 ],
 "metadata": {
  "kernelspec": {
   "display_name": "Python 3",
   "language": "python",
   "name": "python3"
  },
  "language_info": {
   "codemirror_mode": {
    "name": "ipython",
    "version": 3
   },
   "file_extension": ".py",
   "mimetype": "text/x-python",
   "name": "python",
   "nbconvert_exporter": "python",
   "pygments_lexer": "ipython3",
   "version": "3.6.5"
  }
 },
 "nbformat": 4,
 "nbformat_minor": 2
}
