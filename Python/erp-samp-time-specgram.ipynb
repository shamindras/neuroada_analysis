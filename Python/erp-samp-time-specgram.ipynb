{
 "cells": [
  {
   "cell_type": "markdown",
   "metadata": {},
   "source": [
    "# Spectrogram setup in Python"
   ]
  },
  {
   "cell_type": "code",
   "execution_count": 1,
   "metadata": {},
   "outputs": [],
   "source": [
    "%matplotlib inline\n",
    "import random\n",
    "import os\n",
    "import matplotlib.pyplot as plt\n",
    "import numpy as np\n",
    "from scipy import signal\n",
    "from sklearn.decomposition import NMF"
   ]
  },
  {
   "cell_type": "code",
   "execution_count": 79,
   "metadata": {},
   "outputs": [],
   "source": [
    "def get_all_pat_chn_trials(patient_num, session_idx, tot_num_channels):\n",
    "    \"\"\"Get all trials for each channel for a given category\"\"\"\n",
    "    \n",
    "    patient_ref = f\"P{patient_num:02}\"\n",
    "    patient_data_dir = os.path.join(base_data_dir, f\"{patient_ref}_specgram\")\n",
    "    patient_csv_refs = [os.path.join(patient_data_dir, f\"{patient_ref}-ses-{session_idx:02}-chn-{channel_idx + 1:02}-{core_cat}.csv\") for channel_idx in range(tot_num_channels)]\n",
    "\n",
    "    all_patient_trials = [np.loadtxt(fname = patient_csv_ref, skiprows = 1, delimiter = \",\") for \n",
    "                          patient_csv_ref in patient_csv_refs]\n",
    "    return all_patient_trials\n",
    "\n",
    "def samp_idx_without_replace(np_arr, samp_prop=0.5, sample_rows=False):\n",
    "    \"\"\"Returns a list of unique row indices from the total number of trials\"\"\"\n",
    "    if sample_rows:\n",
    "        # sample the number of rows\n",
    "        sample_type = 0\n",
    "    else:\n",
    "        # sample the number of columns\n",
    "        sample_type = 1\n",
    "    tot_num_idxs = np_arr.shape[sample_type]\n",
    "    samp_num_rows = int(np.floor(tot_num_idxs * samp_prop))\n",
    "    return sorted(random.sample(range(tot_num_idxs), samp_num_rows))\n",
    "\n",
    "def erp_gen_spectrogram(x, fs = 1e3, window = 'hann', nperseg = 128, noverlap = 96, log_Sxx=False):\n",
    "    \"\"\"Generate the spectrogram and return the modulus (or log modulus)\"\"\"\n",
    "    f, t, Sxx = signal.spectrogram(x = x, fs = fs, window = window, nperseg = nperseg, noverlap = noverlap)\n",
    "    if log_Sxx:\n",
    "        Sxx = np.log(Sxx)\n",
    "    return f, t, Sxx\n",
    "\n",
    "def specgram_trials(arr_all_trials, trials_samp_idx=None, filter_row_idx=None, log_Sxx=False):\n",
    "    \"\"\"Produce a combined list of spectrograms concatenated by frequency (horizontally)\"\"\"\n",
    "    if trials_samp_idx is None:\n",
    "        # Produce spectrograms for all of the trials\n",
    "        all_trial_idx = range(arr_all_trials.shape[0])\n",
    "        trial_specgrams = [erp_gen_spectrogram(x = arr_all_trials[idx], log_Sxx=log_Sxx)[2] for idx in all_trial_idx]\n",
    "    else:\n",
    "        # Produce spectrograms for only the specified trials (by trial indices)\n",
    "        trial_specgrams = [erp_gen_spectrogram(x = arr_all_trials[idx], log_Sxx=log_Sxx)[2] for idx in trials_samp_idx]\n",
    "    \n",
    "    # Concatenate the combined spectrograms across time i.e. horizontally\n",
    "    comb_specgram = np.hstack(trial_specgrams)\n",
    "    \n",
    "    # Filter the rows of the combined spectrogram    \n",
    "    if filter_row_idx is None:\n",
    "        # Don't filter any rows in the combined spectrogram\n",
    "        comb_specgram = comb_specgram\n",
    "    else:\n",
    "        comb_specgram = comb_specgram[filter_row_idx]\n",
    "    return comb_specgram"
   ]
  },
  {
   "cell_type": "code",
   "execution_count": 81,
   "metadata": {},
   "outputs": [],
   "source": [
    "def specgram_wrapper(arr_all_trials, tot_num_channels, trials_samp_idx=None, \n",
    "                     filter_row_idx=None, log_Sxx=False):\n",
    "    \"\"\"Wrapper to produce spectrograms across all trials (or samples thereof) and the specified\n",
    "       channels for the particular patient\"\"\"\n",
    "    all_channels_specgrams = [specgram_trials(arr_all_trials=arr_all_trials[channel_idx], \n",
    "                                              trials_samp_idx=trials_samp_idx, filter_row_idx=filter_row_idx,\n",
    "                                              log_Sxx=log_Sxx) \n",
    "                              for channel_idx in range(tot_num_channels)]\n",
    "    comb_all_channels_specgrams = np.hstack(all_channels_specgrams)\n",
    "    return comb_all_channels_specgrams"
   ]
  },
  {
   "cell_type": "code",
   "execution_count": 82,
   "metadata": {},
   "outputs": [],
   "source": [
    "def time_sample_specgram(comb_specgram, time_samp_idx):\n",
    "    \"\"\"samples a combined spectrogram of signals (horizontally stacked) and samples by time i.e. shortens by column\"\"\"\n",
    "    return comb_specgram[:, time_samp_idx]    "
   ]
  },
  {
   "cell_type": "code",
   "execution_count": 83,
   "metadata": {},
   "outputs": [],
   "source": [
    "def nmf_specgrams(comb_specgram, n_components=5, init='random', random_state=0, beta_loss='itakura-saito', solver = 'mu', max_iter=200):\n",
    "    model = NMF(n_components=n_components, init=init, random_state=random_state, beta_loss=beta_loss, solver=solver, max_iter=max_iter)\n",
    "    W = model.fit_transform(X=comb_specgram)\n",
    "    H = model.components_\n",
    "    return W, H\n",
    "\n",
    "def nmf_wrapper(comb_all_channels_specgrams, n_components=5, init='random', random_state=0, \n",
    "                beta_loss='itakura-saito', solver = 'mu', max_iter=200):\n",
    "    W, H = nmf_specgrams(comb_all_channels_specgrams, n_components=n_components, init=init, random_state=random_state, \n",
    "                         beta_loss=beta_loss, solver=solver, max_iter=max_iter)\n",
    "    print(\"V\", comb_all_channels_specgrams.shape, sep = \": \")\n",
    "    print(\"W\", W.shape, sep = \": \")\n",
    "    print(\"H\", H.shape, sep = \": \")\n",
    "    return comb_all_channels_specgrams, W, H"
   ]
  },
  {
   "cell_type": "markdown",
   "metadata": {},
   "source": [
    "### Plot the \"basis\" vectors i.e. columns of W"
   ]
  },
  {
   "cell_type": "code",
   "execution_count": 74,
   "metadata": {},
   "outputs": [],
   "source": [
    "def plotW(W, log=True):\n",
    "    if log:\n",
    "        W_plt = np.log(W)\n",
    "    else:\n",
    "        W_plt = W\n",
    "    n_components = W.shape[1]    \n",
    "    for n in range(W.shape[1]):\n",
    "        plt.subplot(np.ceil(n_components/2.0), 2, n+1)\n",
    "        plt.plot(W_plt[:,n])\n",
    "        plt.ylim(-2, W_plt.max())\n",
    "        plt.xlim(0, W_plt.shape[0])\n",
    "        plt.ylabel('Component %d' % n)"
   ]
  },
  {
   "cell_type": "markdown",
   "metadata": {},
   "source": [
    "### Plot the rows of H i.e. the temporal activations"
   ]
  },
  {
   "cell_type": "code",
   "execution_count": 75,
   "metadata": {},
   "outputs": [],
   "source": [
    "def plotH(H, log=False):\n",
    "    if log:\n",
    "        H_plt = np.log(H)\n",
    "    else:\n",
    "        H_plt = H\n",
    "    n_components = H.shape[0]    \n",
    "    for n in range(H.shape[0]):\n",
    "        plt.subplot(np.ceil(n_components/2.0), 2, n+1)\n",
    "        plt.plot(H[n])\n",
    "        plt.ylim(0, H.max())\n",
    "        plt.xlim(0, H.shape[1])\n",
    "        plt.ylabel('Component %d' % n)"
   ]
  },
  {
   "cell_type": "markdown",
   "metadata": {},
   "source": [
    "# 85 Channels - P35, Faces, Session 1"
   ]
  },
  {
   "cell_type": "code",
   "execution_count": 86,
   "metadata": {},
   "outputs": [],
   "source": [
    "base_data_dir = \"/Users/shamindras/PERSONAL/LEARNING/REPOS/neuroada_analysis/data/localizer_erp\"\n",
    "patient_num = 35\n",
    "tot_num_channels = 85\n",
    "session_idx = 1\n",
    "core_cat = \"Faces\"\n",
    "samp_prop = 0.2\n",
    "max_iter = 400"
   ]
  },
  {
   "cell_type": "code",
   "execution_count": 90,
   "metadata": {},
   "outputs": [
    {
     "name": "stdout",
     "output_type": "stream",
     "text": [
      "(65, 303365)\n",
      "(65, 60673)\n"
     ]
    }
   ],
   "source": [
    "# Get all the channels and trials (DONE)\n",
    "all_patient_trials = get_all_pat_chn_trials(patient_num = patient_num, session_idx = session_idx, \n",
    "                                            tot_num_channels = tot_num_channels)\n",
    "\n",
    "#trials_samp_idx = samp_idx_without_replace(np_arr=all_patient_trials[0], samp_prop=samp_prop)\n",
    "#comb_all_channels_specgrams = specgram_wrapper(arr_all_trials=all_patient_trials, trials_samp_idx=trials_samp_idx, tot_num_channels = tot_num_channels, filter_row_idx=None)\n",
    "\n",
    "# Fit the spectrograms and hstack the histograms\n",
    "comb_all_channels_specgrams = specgram_wrapper(arr_all_trials=all_patient_trials, trials_samp_idx=None, \n",
    "                                               tot_num_channels = tot_num_channels, filter_row_idx=None, log_Sxx=False)\n",
    "\n",
    "# randomly sample across time\n",
    "time_samp_idx = samp_idx_without_replace(np_arr=comb_all_channels_specgrams, samp_prop=0.2, sample_rows=False)\n",
    "print(comb_all_channels_specgrams.shape)\n",
    "#print(len(time_samp_idx))\n",
    "#comb_specgram1 = comb_all_channels_specgrams[:, time_samp_idx]\n",
    "comb_specgram_time_sample = time_sample_specgram(comb_specgram=comb_all_channels_specgrams, time_samp_idx=time_samp_idx)\n",
    "print(comb_specgram_time_sample.shape)\n",
    "#print(comb_specgram1.shape)"
   ]
  },
  {
   "cell_type": "code",
   "execution_count": 91,
   "metadata": {},
   "outputs": [
    {
     "name": "stdout",
     "output_type": "stream",
     "text": [
      "V: (65, 60673)\n",
      "W: (65, 8)\n",
      "H: (8, 60673)\n"
     ]
    }
   ],
   "source": [
    "# perform NMF\n",
    "V1, W1, H1 = nmf_wrapper(comb_all_channels_specgrams=comb_specgram_time_sample, n_components=8, \n",
    "                         init='random', random_state=0, beta_loss='itakura-saito', solver = 'mu',max_iter=max_iter)"
   ]
  },
  {
   "cell_type": "markdown",
   "metadata": {},
   "source": [
    "- Ask Max about log values of spectrograms producing negative values (when in range 0-1), so can't directly do NMF"
   ]
  },
  {
   "cell_type": "code",
   "execution_count": 68,
   "metadata": {},
   "outputs": [
    {
     "name": "stderr",
     "output_type": "stream",
     "text": [
      "/Users/shamindras/anaconda/envs/sklearnprod1/lib/python3.6/site-packages/ipykernel_launcher.py:3: RuntimeWarning: divide by zero encountered in log\n",
      "  This is separate from the ipykernel package so we can avoid doing imports until\n"
     ]
    },
    {
     "data": {
      "image/png": "[encoded data removed]",
      "text/plain": [
       "<Figure size 432x288 with 8 Axes>"
      ]
     },
     "metadata": {},
     "output_type": "display_data"
    }
   ],
   "source": [
    "plotW(W = W1, log=True)"
   ]
  },
  {
   "cell_type": "code",
   "execution_count": 69,
   "metadata": {},
   "outputs": [
    {
     "data": {
      "image/png": "[encoded data removed]",
      "text/plain": [
       "<Figure size 432x288 with 8 Axes>"
      ]
     },
     "metadata": {},
     "output_type": "display_data"
    }
   ],
   "source": [
    "plotH(H = H1, log=False)"
   ]
  }
 ],
 "metadata": {
  "kernelspec": {
   "display_name": "Python 3",
   "language": "python",
   "name": "python3"
  },
  "language_info": {
   "codemirror_mode": {
    "name": "ipython",
    "version": 3
   },
   "file_extension": ".py",
   "mimetype": "text/x-python",
   "name": "python",
   "nbconvert_exporter": "python",
   "pygments_lexer": "ipython3",
   "version": "3.6.5"
  }
 },
 "nbformat": 4,
 "nbformat_minor": 2
}
