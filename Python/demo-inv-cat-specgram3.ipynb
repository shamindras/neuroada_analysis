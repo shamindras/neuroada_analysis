{
 "cells": [
  {
   "cell_type": "markdown",
   "metadata": {},
   "source": [
    "# All Spectrogram Code Setup"
   ]
  },
  {
   "cell_type": "code",
   "execution_count": null,
   "metadata": {},
   "outputs": [],
   "source": [
    "%matplotlib inline\n",
    "import random\n",
    "import os\n",
    "import matplotlib.pyplot as plt\n",
    "import numpy as np\n",
    "from scipy import signal, stats\n",
    "from sklearn.decomposition import NMF\n",
    "import pandas as pd\n",
    "\n",
    "def get_all_pat_chn_trials(base_data_dir, patient_num, session_idx, tot_num_channels, \n",
    "                           core_cat, trials_type, ord):\n",
    "    # TODO: Fix the default norm value to be None, and allow other norms to flow through\n",
    "    \"\"\"Get all trials for each channel for a given category\"\"\"    \n",
    "    \n",
    "    patient_ref = f\"P{patient_num:02}\"\n",
    "    #print(\"patient_ref\", patient_ref, sep =\": \")\n",
    "    patient_data_dir = os.path.join(base_data_dir, f\"{patient_ref}_specgram\", \n",
    "                                    f\"{trials_type}\", \n",
    "                                    f\"session_{session_idx:02}\",\n",
    "                                    f\"{core_cat}\")\n",
    "    #print(\"patient_data_dir\", patient_data_dir, sep =\": \")\n",
    "    patient_csv_refs = [os.path.join(patient_data_dir, f\"{patient_ref}-ses-{session_idx:02}-chn-{channel_idx + 1:02}-{core_cat}.csv\") \n",
    "                        for channel_idx in tot_num_channels]\n",
    "    #print(\"patient_csv_refs\", patient_csv_refs[0], sep =\": \")\n",
    "    all_patient_trials = [np.loadtxt(fname = patient_csv_ref, skiprows = 1, delimiter = \",\") for \n",
    "                          patient_csv_ref in patient_csv_refs]\n",
    "    \n",
    "    # Normalize the trial based on the specified norm type\n",
    "    if ord is not None:\n",
    "        print(f\"we are using the {ord}-norm to normalize trials\")\n",
    "        all_patient_trials = [trials / np.linalg.norm(trials, ord=ord, axis=1, keepdims=True) for trials in all_patient_trials]\n",
    "\n",
    "    return all_patient_trials\n",
    "\n",
    "def samp_idx_without_replace(np_arr, samp_prop, sample_rows):\n",
    "    \"\"\"Returns a list of unique row indices from the total number of trials\"\"\"\n",
    "    if sample_rows:\n",
    "        # sample the number of rows\n",
    "        sample_type = 0\n",
    "    else:\n",
    "        # sample the number of columns\n",
    "        sample_type = 1\n",
    "    tot_num_idxs = np_arr.shape[sample_type]\n",
    "    samp_num_rows = int(np.floor(tot_num_idxs * samp_prop))\n",
    "    return sorted(random.sample(range(tot_num_idxs), samp_num_rows))\n",
    "\n",
    "def erp_gen_spectrogram(x, fs, window, nperseg, noverlap, log_Sxx):\n",
    "    \"\"\"Generate the spectrogram and return the modulus (or log modulus)\"\"\"\n",
    "    f, t, Sxx = signal.spectrogram(x = x, fs = fs, window = window, nperseg = nperseg, noverlap = noverlap)\n",
    "    if log_Sxx:\n",
    "        Sxx = np.log(Sxx)\n",
    "    return f, t, Sxx\n",
    "\n",
    "def erp_gen_welch(x, fs, window, nperseg, noverlap):\n",
    "    \"\"\"Estimate power spectral density using Welch’s method.\"\"\"\n",
    "    f, psd = signal.welch(x = x, fs = fs, window = window, nperseg = nperseg, noverlap = noverlap)\n",
    "    return f, psd\n",
    "\n",
    "def specgram_trials(arr_all_trials, fs, window, nperseg, \n",
    "                    trials_samp_idx, filter_row_idx, log_Sxx):\n",
    "    \"\"\"Produce a combined list of spectrograms concatenated by frequency (horizontally)\"\"\"\n",
    "    if trials_samp_idx is None:\n",
    "        # Produce spectrograms for all of the trials\n",
    "        all_trial_idx = range(arr_all_trials.shape[0])\n",
    "        trial_specgrams = [erp_gen_spectrogram(x=arr_all_trials[idx], fs=fs, window=window, nperseg=nperseg, \n",
    "                                               noverlap=noverlap, log_Sxx=log_Sxx)[2] for idx in all_trial_idx]\n",
    "    else:\n",
    "        # Produce spectrograms for only the specified trials (by trial indices)\n",
    "        trial_specgrams = [erp_gen_spectrogram(x = arr_all_trials[idx], fs = fs, window = window, nperseg = nperseg, \n",
    "                                               noverlap=noverlap, log_Sxx=log_Sxx)[2] for idx in trials_samp_idx]\n",
    "    \n",
    "    # Concatenate the combined spectrograms across time i.e. horizontally\n",
    "    comb_specgram = np.hstack(trial_specgrams)\n",
    "    \n",
    "    # Filter the rows of the combined spectrogram    \n",
    "    if filter_row_idx is None:\n",
    "        # Don't filter any rows in the combined spectrogram\n",
    "        comb_specgram = comb_specgram\n",
    "    else:\n",
    "        comb_specgram = comb_specgram[filter_row_idx]\n",
    "    return comb_specgram\n",
    "\n",
    "def specgram_wrapper(arr_all_trials, tot_num_channels, fs, window, nperseg, \n",
    "                     trials_samp_idx, filter_row_idx, log_Sxx):\n",
    "    \"\"\"Wrapper to produce spectrograms across all trials (or samples thereof) and the specified\n",
    "       channels for the particular patient\"\"\"\n",
    "    all_channels_specgrams = [specgram_trials(arr_all_trials=arr_all_trials[channel_idx],\n",
    "                                              fs = fs, window = window, nperseg = nperseg,\n",
    "                                              trials_samp_idx=trials_samp_idx, filter_row_idx=filter_row_idx,\n",
    "                                              log_Sxx=log_Sxx) \n",
    "                              for channel_idx in range(len(tot_num_channels))]\n",
    "    comb_all_channels_specgrams = np.hstack(all_channels_specgrams)\n",
    "    return comb_all_channels_specgrams\n",
    "\n",
    "def time_sample_specgram(comb_specgram, time_samp_idx):\n",
    "    \"\"\"samples a combined spectrogram of signals (horizontally stacked) and samples by time i.e. shortens by column\"\"\"\n",
    "    return comb_specgram[:, time_samp_idx]    \n",
    "\n",
    "def nmf_specgrams(comb_specgram, n_components=5, init='random', random_state=0, beta_loss='itakura-saito', solver = 'mu', max_iter=200):\n",
    "    model = NMF(n_components=n_components, init=init, random_state=random_state, beta_loss=beta_loss, solver=solver, max_iter=max_iter)\n",
    "    W = model.fit_transform(X=comb_specgram)\n",
    "    H = model.components_\n",
    "    return W, H\n",
    "\n",
    "def nmf_wrapper(comb_all_channels_specgrams, n_components=5, init='random', random_state=0, \n",
    "                beta_loss='itakura-saito', solver = 'mu', max_iter=200):\n",
    "    W, H = nmf_specgrams(comb_all_channels_specgrams, n_components=n_components, init=init, random_state=random_state, \n",
    "                         beta_loss=beta_loss, solver=solver, max_iter=max_iter)\n",
    "    print(\"V\", comb_all_channels_specgrams.shape, sep = \": \")\n",
    "    print(\"W\", W.shape, sep = \": \")\n",
    "    print(\"H\", H.shape, sep = \": \")\n",
    "    return comb_all_channels_specgrams, W, H\n",
    "\n",
    "### Plot the \"basis\" vectors i.e. columns of W\n",
    "\n",
    "def plotW(W, log=True, x_ticks_l=None):\n",
    "    if log:\n",
    "        W_plt = np.log(W)\n",
    "    else:\n",
    "        W_plt = W\n",
    "    n_components = W.shape[1]    \n",
    "    for n in range(W.shape[1]):\n",
    "        plt.style.use('seaborn')\n",
    "        plt.figure(figsize=(20, 16), dpi= 80, facecolor='w', edgecolor='k')\n",
    "        plt.subplot(np.ceil(n_components/2.0), 2, n+1)\n",
    "        plt.plot(W_plt[:,n])\n",
    "        plt.title(f'Plot of W Component {n + 1}', fontsize=16)\n",
    "        #plt.ylim(-2, W_plt.max())\n",
    "        if x_ticks_l is None:\n",
    "            plt.xlim(0, W_plt.shape[0])\n",
    "        else:\n",
    "            plt.xticks(range(0, W_plt.shape[0]), np.around(x_ticks_l), rotation='vertical')\n",
    "        plt.ylabel(f'Component {n + 1}')\n",
    "\n",
    "### Plot the rows of H i.e. the temporal activations\n",
    "\n",
    "def plotH(H, log=False, y_ticks_l=None):\n",
    "    print(H.shape[1])\n",
    "    if log:\n",
    "        H_plt = np.log(H)\n",
    "    else:\n",
    "        H_plt = H\n",
    "    n_components = H.shape[0]    \n",
    "    for n in range(H_plt.shape[0]):\n",
    "        plt.style.use('seaborn')\n",
    "        plt.figure(figsize=(16, 14), dpi= 80, facecolor='w', edgecolor='k')\n",
    "        plt.subplot(np.ceil(n_components/2.0), 2, n+1)\n",
    "        plt.title(f'Plot of H Component {n + 1}', fontsize=16)\n",
    "        plt.plot(H_plt[n])\n",
    "        #if y_ticks_l is None:\n",
    "        #    plt.ylim(0, H_plt.shape[1])\n",
    "        #else:\n",
    "        #    plt.yticks(range(0, H_plt.shape[1]), np.around(y_ticks_l, decimals=-1), rotation='vertical')\n",
    "        #plt.ylim(0, H.max())\n",
    "        plt.xlim(0, H_plt.shape[1])\n",
    "        plt.ylabel(f'Component {n + 1}')\n",
    "        \n",
    "def entire_specgram_nmf_wrapper(base_data_dir, core_cat, trials_type,\n",
    "                                patient_num, session_idx, tot_num_channels, samp_trial_pop, \n",
    "                                ord=None,\n",
    "                                time_samp_prop=0.2,\n",
    "                                filter_row_idx=None,\n",
    "                                noverlap=noverlap,\n",
    "                                log_Sxx=False,\n",
    "                                fs=1e3, window='hann', nperseg=128,\n",
    "                                n_components=8, \n",
    "                                init='random', \n",
    "                                random_state=0, \n",
    "                                beta_loss='itakura-saito', \n",
    "                                solver = 'mu',\n",
    "                                max_iter=400):\n",
    "    \n",
    "    # Get all the channels and trials (DONE)\n",
    "    all_patient_trials = get_all_pat_chn_trials(base_data_dir=base_data_dir, patient_num=patient_num, \n",
    "                                                session_idx=session_idx, tot_num_channels=tot_num_channels, \n",
    "                                                core_cat=core_cat, trials_type=trials_type, ord=ord)\n",
    "\n",
    "    trials_samp_idx = samp_idx_without_replace(np_arr=all_patient_trials[0], samp_prop=samp_trial_pop, \n",
    "                                               sample_rows=True)\n",
    "    print(len(trials_samp_idx))\n",
    "\n",
    "    # Fit the spectrograms and hstack the spectrograms\n",
    "    comb_all_channels_specgrams = specgram_wrapper(arr_all_trials=all_patient_trials, \n",
    "                                                   trials_samp_idx=trials_samp_idx, \n",
    "                                                   tot_num_channels=tot_num_channels,\n",
    "                                                   fs=fs, window=window, nperseg=nperseg,\n",
    "                                                   filter_row_idx=filter_row_idx, \n",
    "                                                   log_Sxx=log_Sxx)\n",
    "\n",
    "    # randomly sample across time\n",
    "    time_samp_idx = samp_idx_without_replace(np_arr=comb_all_channels_specgrams, \n",
    "                                             samp_prop=time_samp_prop, \n",
    "                                             sample_rows=False)\n",
    "    \n",
    "    print(\"comb_all_channels_specgrams:\", comb_all_channels_specgrams.shape, sep = \" \")\n",
    "    print(\"time_samp_idx length:\", len(time_samp_idx), sep = \" \")\n",
    "\n",
    "    comb_specgram_time_sample = time_sample_specgram(comb_specgram=comb_all_channels_specgrams, \n",
    "                                                     time_samp_idx=time_samp_idx)\n",
    "    \n",
    "    print(\"comb_specgram_time_sample:\", comb_specgram_time_sample.shape, sep=\" \")\n",
    "    \n",
    "    print(\"STARTING NMF...\")\n",
    "    \n",
    "    # perform NMF\n",
    "    V, W, H = nmf_wrapper(comb_all_channels_specgrams=comb_specgram_time_sample, \n",
    "                          n_components=n_components,\n",
    "                          init=init, \n",
    "                          random_state=random_state, \n",
    "                          beta_loss=beta_loss, \n",
    "                          solver=solver,\n",
    "                          max_iter=max_iter)\n",
    "    \n",
    "    print(\"NMF COMPLETE!\")\n",
    "    \n",
    "    return V, W, H        "
   ]
  },
  {
   "cell_type": "markdown",
   "metadata": {},
   "source": [
    "# Addditional Utilities\n",
    "\n",
    "- Extract the same trial across all channels"
   ]
  },
  {
   "cell_type": "code",
   "execution_count": null,
   "metadata": {},
   "outputs": [],
   "source": [
    "def get_same_trial_forall_channels(all_pat_chn_trials, trial_idx):\n",
    "    \"\"\"Get all trials for a single channel (for a specific patient, session and category)\"\"\"    \n",
    "    same_trial_forall_channels = [channel_trials[trial_idx] for channel_trials in all_pat_chn_trials]\n",
    "    same_trial_forall_channels = np.vstack(same_trial_forall_channels)\n",
    "    return same_trial_forall_channels"
   ]
  },
  {
   "cell_type": "markdown",
   "metadata": {},
   "source": [
    "# SPECIFICATION for DEMO: P41, Faces, Session 1"
   ]
  },
  {
   "cell_type": "code",
   "execution_count": null,
   "metadata": {},
   "outputs": [],
   "source": [
    "base_data_dir = \"/Users/shamindras/PERSONAL/LEARNING/REPOS/neuroada_analysis/data/localizer_erp\"\n",
    "patient_num = 41\n",
    "tot_num_channels = range(85)\n",
    "trials_type = \"category\"\n",
    "session_idx = 1\n",
    "core_cat = \"Faces\"\n",
    "ord = None # L2 norm\n",
    "\n",
    "# Spectrogram parameters\n",
    "fs = 1e3\n",
    "window = 'hann'\n",
    "nperseg = 192\n",
    "noverlap = 96\n",
    "log_Sxx=False\n",
    "spec_trial_num = 5 # Specific Trial Index that we are going to test\n",
    "spec_trial_idx = spec_trial_num - 1\n",
    "\n",
    "channel_num = 10\n",
    "channel_idx = channel_num - 1"
   ]
  },
  {
   "cell_type": "markdown",
   "metadata": {},
   "source": [
    "# Get all trials for by channel"
   ]
  },
  {
   "cell_type": "code",
   "execution_count": null,
   "metadata": {},
   "outputs": [],
   "source": [
    "# All trials by channel\n",
    "\n",
    "all_pat_chn_trials = get_all_pat_chn_trials(base_data_dir=base_data_dir, patient_num=patient_num, \n",
    "                                   session_idx=session_idx, tot_num_channels=tot_num_channels, \n",
    "                                   core_cat=core_cat, trials_type=trials_type, ord=ord)\n",
    "len(all_pat_chn_trials)"
   ]
  },
  {
   "cell_type": "markdown",
   "metadata": {},
   "source": [
    "As expected there are 85 channels for P41 in session 1 for the Faces category"
   ]
  },
  {
   "cell_type": "markdown",
   "metadata": {},
   "source": [
    "## Obtain trial 10 for all channels"
   ]
  },
  {
   "cell_type": "code",
   "execution_count": null,
   "metadata": {},
   "outputs": [],
   "source": [
    "pat_trial_5_all_chn = get_same_trial_forall_channels(all_pat_chn_trials = all_pat_chn_trials, trial_idx = spec_trial_idx)\n",
    "#test_trial_1.shape\n",
    "#test_trial_10[1, :]-all_pat_chn_trials[1][spec_trial_idx]\n",
    "print(f\"The dimension of all trials for channel {spec_trial_num} {pat_trial_5_all_chn.shape}\")\n",
    "print(f\"The dimension of trials by time for channel {spec_trial_num} {all_pat_chn_trials[spec_trial_idx].shape}\")"
   ]
  },
  {
   "cell_type": "markdown",
   "metadata": {},
   "source": [
    "#### Comments\n",
    "- This makes sense, just 85 channels for P41 in session 1 for the Faces category\n",
    "- This makes sense, just 84 **Face** trials in channel 1 for P41 in session 1.\n",
    "- Let's extract the first trial only to test out the spectrogram fit."
   ]
  },
  {
   "cell_type": "markdown",
   "metadata": {},
   "source": [
    "### Fit the spectrogram"
   ]
  },
  {
   "cell_type": "code",
   "execution_count": null,
   "metadata": {},
   "outputs": [],
   "source": [
    "# Fit the spectrogram - no log\n",
    "f, t, Sxx = erp_gen_spectrogram(x = all_pat_chn_trials[9][0], fs = fs, window = window, nperseg = nperseg, noverlap = noverlap, log_Sxx=log_Sxx)\n",
    "\n",
    "# Plot the spectrogram\n",
    "plt.pcolormesh(t, f, Sxx)\n",
    "plt.title(f\"Spectrogram modulus values (raw not log) - {core_cat}\")\n",
    "plt.ylabel('Frequency [Hz]')\n",
    "plt.xlabel('Time [sec]')\n",
    "plt.colorbar().set_label('Intensity')\n",
    "plt.show()"
   ]
  },
  {
   "cell_type": "markdown",
   "metadata": {},
   "source": [
    "### Plot the **log** of the square modulus spectrogram values"
   ]
  },
  {
   "cell_type": "code",
   "execution_count": null,
   "metadata": {},
   "outputs": [],
   "source": [
    "plt.pcolormesh(t, f, np.log(Sxx))\n",
    "plt.title(f\"Log of spectrogram modulus values - {core_cat}\")\n",
    "plt.ylabel('Frequency [Hz]')\n",
    "plt.xlabel('Time [sec]')\n",
    "plt.colorbar().set_label('Intensity')\n",
    "plt.show()"
   ]
  },
  {
   "cell_type": "markdown",
   "metadata": {},
   "source": [
    "# Plot the Power Spectral Density for all Trials - Channel 10, P41, Faces, Session 1"
   ]
  },
  {
   "cell_type": "code",
   "execution_count": null,
   "metadata": {},
   "outputs": [],
   "source": [
    "def erp_gen_welch(x, fs = 1e3, window = 'hann', nperseg = 128, noverlap = 96):\n",
    "    \"\"\"Estimate power spectral density using Welch’s method.\"\"\"\n",
    "    f, psd = signal.welch(x = x, fs = fs, window = window, nperseg = nperseg, noverlap = noverlap)\n",
    "    return f, psd\n",
    "\n",
    "def psd_welch_trials(arr_all_trials, fs=1e3, window='hann', nperseg=128, noverlap=96,\n",
    "                     trials_samp_idx=None, filter_row_idx=None):\n",
    "    \"\"\"Produce a combined list of spectrograms concatenated by frequency (horizontally)\"\"\"\n",
    "    if trials_samp_idx is None:\n",
    "        # Produce spectrograms for all of the trials\n",
    "        all_trial_idx = range(arr_all_trials.shape[0])\n",
    "        trial_psds = [erp_gen_welch(x = arr_all_trials[idx], fs = fs, window = window, nperseg = nperseg, noverlap = noverlap)[1] \n",
    "                      for idx in all_trial_idx]\n",
    "        #print(trial_psds[0].shape)\n",
    "    else:\n",
    "        # Produce spectrograms for only the specified trials (by trial indices)\n",
    "        trial_psds = [erp_gen_welch(x = arr_all_trials[idx], fs = fs, window = window, nperseg = nperseg, noverlap = noverlap)[1] \n",
    "                      for idx in trials_samp_idx]\n",
    "    \n",
    "    # Concatenate the combined spectrograms across time i.e. horizontally\n",
    "    comb_psd = np.vstack(trial_psds)\n",
    "    \n",
    "    # Filter the rows of the combined spectrogram    \n",
    "    if filter_row_idx is None:\n",
    "        # Don't filter any rows in the combined spectrogram\n",
    "        comb_psd = comb_psd\n",
    "    else:\n",
    "        comb_psd = comb_psd[filter_row_idx]\n",
    "    return comb_psd\n",
    "\n",
    "def plt_psd_welch_trials(comb_psd, freqs, title):\n",
    "    comb_psd_T = comb_psd.T\n",
    "    num_trials = comb_psd.shape[0]\n",
    "    plt.figure(figsize=(15, 10))\n",
    "    plt.semilogx(freqs, comb_psd_T[:,range(num_trials)])\n",
    "    plt.title(title, fontsize=20)\n",
    "    plt.xlabel('Frequency')\n",
    "    plt.ylabel('Power')\n",
    "    plt.tight_layout()\n",
    "    #plt.legend()"
   ]
  },
  {
   "cell_type": "markdown",
   "metadata": {},
   "source": [
    "## First plot the PSD for a single trial - Channel 10, Trial 1"
   ]
  },
  {
   "cell_type": "code",
   "execution_count": null,
   "metadata": {},
   "outputs": [],
   "source": [
    "freqs, psd = signal.welch(x = all_pat_chn_trials[9][0], fs = fs, window = window, nperseg = nperseg, noverlap = noverlap)\n",
    "\n",
    "plt.figure(figsize=(5, 4))\n",
    "plt.semilogx(freqs, psd)\n",
    "plt.title('PSD: power spectral density')\n",
    "plt.xlabel('Frequency')\n",
    "plt.ylabel('Power')\n",
    "plt.tight_layout()"
   ]
  },
  {
   "cell_type": "markdown",
   "metadata": {},
   "source": [
    "## Plot the Power Spectral Density for all Trials - Channel 10, P41, Faces, Session 1"
   ]
  },
  {
   "cell_type": "code",
   "execution_count": null,
   "metadata": {},
   "outputs": [],
   "source": [
    "comb_psd = psd_welch_trials(arr_all_trials = all_pat_chn_trials[channel_idx], fs=fs, window=window, nperseg=nperseg, noverlap=noverlap, trials_samp_idx=None, filter_row_idx=None)\n",
    "comb_psd_T = comb_psd.T\n",
    "#print(f\"The dimensions for the transposed PSDs for all P41, channel 10, Face trials is: {comb_psd_T.shape}\")\n",
    "plt_psd_welch_trials(comb_psd = comb_psd, freqs = freqs, title=f\"PSD: power spectral density for P{patient_num} - Channel {channel_num}, Category {core_cat}\")"
   ]
  },
  {
   "cell_type": "markdown",
   "metadata": {},
   "source": [
    "As we can see, the welch spectrogram of all P41, Channel 10, Face trials appears to be observing a powerlaw property (on semi-log scale for the x-axis)"
   ]
  },
  {
   "cell_type": "markdown",
   "metadata": {},
   "source": [
    "# Wavelet Graph comparison\n",
    "\n",
    "- Take a single channel - all 83 trials\n",
    "    - We will do the same for a single trial\n",
    "- Get all spectrograms for all trials within a single channel (log scale)\n",
    "    - we will repeat this for the non-log scale\n",
    "- zscrore the first 500 columns for each row - call the V_PRE (for each spectrogram) **PRE-STIM**\n",
    "- zscrore the last 1000 columns for each row - call the V_PST (for each spectrogram) **POST-STIM**\n",
    "- combine V_PRE and V_PST (hstack)\n",
    "- take the average across all channels"
   ]
  },
  {
   "cell_type": "code",
   "execution_count": null,
   "metadata": {},
   "outputs": [],
   "source": [
    "def only_specgram_trials(arr_all_trials, fs, window, nperseg, noverlap,\n",
    "                    trials_samp_idx=None, filter_row_idx=None, log_Sxx=False):\n",
    "    \"\"\"Produce a combined list of spectrograms concatenated by frequency (horizontally)\"\"\"\n",
    "    if trials_samp_idx is None:\n",
    "        # Produce spectrograms for all of the trials\n",
    "        all_trial_idx = range(arr_all_trials.shape[0])\n",
    "        trial_specgrams = [erp_gen_spectrogram(x = arr_all_trials[idx], fs = fs, window = window, nperseg = nperseg,\n",
    "                                               noverlap=noverlap, log_Sxx=log_Sxx)[2] for idx in all_trial_idx]\n",
    "    else:\n",
    "        # Produce spectrograms for only the specified trials (by trial indices)\n",
    "        trial_specgrams = [erp_gen_spectrogram(x = arr_all_trials[idx], fs = fs, window = window, nperseg = nperseg, \n",
    "                                               noverlap=noverlap, log_Sxx=log_Sxx)[2] for idx in trials_samp_idx]\n",
    "    \n",
    "    # Filter the rows of the combined spectrogram    \n",
    "    if filter_row_idx is None:\n",
    "        # Don't filter any rows in the combined spectrogram\n",
    "        trial_specgrams = trial_specgrams\n",
    "    else:\n",
    "        trial_specgrams = [specgram[filter_row_idx] for specgram in trial_specgrams]\n",
    "    return trial_specgrams\n",
    "\n",
    "def z_score_specific_cols(arr, col_range):\n",
    "    \"\"\"Zscore row of array which is subset by a specific column range\"\"\"\n",
    "    # Subset array\n",
    "    sub_arr = arr[:, col_range]\n",
    "    # Z-score by row the subsetted array\n",
    "    sub_arr_z = stats.zscore(a=sub_arr, axis=1, ddof=1)\n",
    "    return sub_arr_z\n",
    "\n",
    "def zscore_specgram(arr, pre_col_range, pst_col_range):\n",
    "    \"\"\"Get the zscore of the spectrogram based separately for pre and post stim column ranges\"\"\"\n",
    "    pre_arr_z = z_score_specific_cols(arr=arr, col_range=pre_col_range)\n",
    "    pst_arr_z = z_score_specific_cols(arr=arr, col_range=pst_col_range)\n",
    "    comb_arr_z = np.hstack([pre_arr_z, pst_arr_z])\n",
    "    return comb_arr_z\n",
    "\n",
    "def zscore_specgram_wrapper(arr_all_trials, pre_col_range, pst_col_range, \n",
    "                            fs, window, nperseg, noverlap,\n",
    "                            trials_samp_idx, filter_row_idx, log_Sxx):\n",
    "    \"\"\"\"\"\"\n",
    "    # Get spectrograms for all of the trials\n",
    "    specgram_trials = only_specgram_trials(arr_all_trials=arr_all_trials, fs=fs, window=window, nperseg=nperseg, noverlap=noverlap,\n",
    "                                           trials_samp_idx=trials_samp_idx, filter_row_idx=filter_row_idx, log_Sxx=log_Sxx)\n",
    "\n",
    "    # Z-score sprectrograms\n",
    "    z_specgrams = [zscore_specgram(arr=specgram_trial, pre_col_range=pre_col_range, pst_col_range=pst_col_range)\n",
    "                   for specgram_trial in specgram_trials]\n",
    "    #print(f\"the dimension of z_specgrams[0] is {z_specgrams[0].shape}\")\n",
    "    \n",
    "    comb_z_specgrams = np.dstack(z_specgrams)\n",
    "    #print(f\"the dimension of comb_z_specgrams is {comb_z_specgrams.shape}\")\n",
    "    \n",
    "    # Get mean across corresponding elements of the spectrograms\n",
    "    mean_z_specgrams = np.mean(z_specgrams, axis=0)\n",
    "    #print(f\"the dimension of mean_z_specgrams is {mean_z_specgrams.shape}\")\n",
    "    \n",
    "    return mean_z_specgrams"
   ]
  },
  {
   "cell_type": "markdown",
   "metadata": {},
   "source": [
    "## Get the Mean Spectrogram - P41, Channel 10, Faces (Z-score pre-stim, and Z-score post-stim)"
   ]
  },
  {
   "cell_type": "code",
   "execution_count": null,
   "metadata": {},
   "outputs": [],
   "source": [
    "comb_specgram_channel_ch_10 = zscore_specgram_wrapper(arr_all_trials=all_pat_chn_trials[channel_idx], pre_col_range=range(4), pst_col_range=range(4, 14), \n",
    "                            fs=fs, window=window, nperseg=nperseg, noverlap=noverlap,\n",
    "                            trials_samp_idx=None, filter_row_idx=None, log_Sxx=False)\n",
    "comb_specgram_channel_ch_10.shape\n",
    "\n",
    "# Plot the spectrogram\n",
    "plt.pcolormesh(t, f, comb_specgram_channel_ch_10)\n",
    "plt.title(f\"Spectrogram modulus values (raw not log) - {core_cat}\")\n",
    "plt.ylabel('Frequency [Hz]')\n",
    "plt.xlabel('Time [sec]')\n",
    "plt.colorbar().set_label('Intensity')\n",
    "plt.show()"
   ]
  },
  {
   "cell_type": "code",
   "execution_count": null,
   "metadata": {},
   "outputs": [],
   "source": [
    "all_pat_chn_trials[channel_idx].shape\n",
    "#pat_trial_5_all_chn.shape"
   ]
  },
  {
   "cell_type": "code",
   "execution_count": null,
   "metadata": {},
   "outputs": [],
   "source": [
    "trial_05_comb_specgram = zscore_specgram_wrapper(arr_all_trials=pat_trial_5_all_chn, pre_col_range=range(4), pst_col_range=range(4, 14), \n",
    "                                                 fs=fs, window=window, nperseg=nperseg, noverlap=noverlap,\n",
    "                                                 trials_samp_idx=None, filter_row_idx=None, log_Sxx=False)\n",
    "pat_trial_5_all_chn.shape\n",
    "plt.pcolormesh(t, f, trial_05_comb_specgram)\n",
    "plt.title(f\"Spectrogram modulus values (raw not log) - {core_cat}\")\n",
    "plt.ylabel('Frequency [Hz]')\n",
    "plt.xlabel('Time [sec]')\n",
    "plt.colorbar().set_label('Intensity')\n",
    "plt.show()"
   ]
  },
  {
   "cell_type": "markdown",
   "metadata": {},
   "source": [
    "# 85 Channels - P41, Faces, Session 1"
   ]
  },
  {
   "cell_type": "markdown",
   "metadata": {},
   "source": [
    "### Perform NMF for P41 - 85 Channels, Faces, Session 1 \n",
    "#### (100% sampling of trials, 100% sampling of time)"
   ]
  },
  {
   "cell_type": "code",
   "execution_count": null,
   "metadata": {},
   "outputs": [],
   "source": [
    "np.random.seed(seed=103224)"
   ]
  },
  {
   "cell_type": "code",
   "execution_count": null,
   "metadata": {},
   "outputs": [],
   "source": [
    "base_data_dir = \"/Users/shamindras/PERSONAL/LEARNING/REPOS/neuroada_analysis/data/localizer_erp\"\n",
    "patient_num = 41\n",
    "tot_num_channels = list(range(85))\n",
    "trials_type = \"category\"\n",
    "ord = None # 2-norm\n",
    "samp_trial_pop = 1.0 # 100% sampling of trials\n",
    "time_samp_prop = 1.0 # 100% sampling of time\n",
    "session_idx = 1\n",
    "core_cat = \"Faces\"\n",
    "filter_row_idx=range(21)\n",
    "fs = 1e3\n",
    "window = 'hann'\n",
    "nperseg = 192\n",
    "noverlap = 96\n",
    "log_Sxx = False\n",
    "n_components = 8 \n",
    "init = 'random' \n",
    "random_state = 0\n",
    "beta_loss = 'itakura-saito'\n",
    "solver = 'mu'\n",
    "max_iter = 400"
   ]
  },
  {
   "cell_type": "code",
   "execution_count": null,
   "metadata": {},
   "outputs": [],
   "source": [
    "V, W, H = entire_specgram_nmf_wrapper(base_data_dir=base_data_dir, core_cat=core_cat, trials_type=trials_type, ord=ord,\n",
    "                                      patient_num=patient_num, session_idx=session_idx, \n",
    "                                      tot_num_channels=tot_num_channels, \n",
    "                                      samp_trial_pop=samp_trial_pop,\n",
    "                                      time_samp_prop=time_samp_prop,\n",
    "                                      filter_row_idx=filter_row_idx,\n",
    "                                      fs=fs, window=window, nperseg=nperseg, noverlap=noverlap,\n",
    "                                      log_Sxx=log_Sxx,\n",
    "                                      n_components=n_components, \n",
    "                                      init=init, \n",
    "                                      random_state=random_state, \n",
    "                                      beta_loss=beta_loss, \n",
    "                                      solver=solver,\n",
    "                                      max_iter=max_iter)"
   ]
  },
  {
   "cell_type": "code",
   "execution_count": null,
   "metadata": {},
   "outputs": [],
   "source": [
    "#freq_ticks = np.around(np.linspace(0, 100, num=len(filter_row_idx)), decimals=0)\n",
    "freq_ticks = f[filter_row_idx]\n",
    "#freq_ticks\n",
    "plotW(W = W, log=False, x_ticks_l=freq_ticks)"
   ]
  },
  {
   "cell_type": "code",
   "execution_count": null,
   "metadata": {},
   "outputs": [],
   "source": [
    "plotH(H = H, log=False, y_ticks_l=None)"
   ]
  },
  {
   "cell_type": "markdown",
   "metadata": {},
   "source": [
    "## L1-norm, IS-norm NMF"
   ]
  },
  {
   "cell_type": "code",
   "execution_count": null,
   "metadata": {},
   "outputs": [],
   "source": [
    "ord1 = 2 # L2-norm\n",
    "\n",
    "V1, W1, H1 = entire_specgram_nmf_wrapper(base_data_dir=base_data_dir, core_cat=core_cat, trials_type=trials_type, ord=ord1, # L2-norm\n",
    "                                      patient_num=patient_num, session_idx=session_idx, \n",
    "                                      tot_num_channels=tot_num_channels, \n",
    "                                      samp_trial_pop=samp_trial_pop,\n",
    "                                      time_samp_prop=time_samp_prop,\n",
    "                                      filter_row_idx=filter_row_idx,\n",
    "                                      fs=fs, window=window, nperseg=nperseg, noverlap=noverlap,\n",
    "                                      log_Sxx=log_Sxx,\n",
    "                                      n_components=n_components, \n",
    "                                      init=init, \n",
    "                                      random_state=random_state, \n",
    "                                      beta_loss=beta_loss, # I-S loss NMF\n",
    "                                      solver=solver,\n",
    "                                      max_iter=max_iter)"
   ]
  },
  {
   "cell_type": "code",
   "execution_count": null,
   "metadata": {},
   "outputs": [],
   "source": [
    "#freq_ticks\n",
    "plotW(W = W1, log=False, x_ticks_l=freq_ticks)"
   ]
  },
  {
   "cell_type": "code",
   "execution_count": null,
   "metadata": {},
   "outputs": [],
   "source": [
    "plotH(H = H1, log=False, y_ticks_l=None)"
   ]
  },
  {
   "cell_type": "code",
   "execution_count": null,
   "metadata": {},
   "outputs": [],
   "source": [
    "ord2 = 1 # L1-norm\n",
    "\n",
    "V2, W2, H2 = entire_specgram_nmf_wrapper(base_data_dir=base_data_dir, core_cat=core_cat, trials_type=trials_type, ord=ord2, # L2-norm\n",
    "                                      patient_num=patient_num, session_idx=session_idx, \n",
    "                                      tot_num_channels=tot_num_channels, \n",
    "                                      samp_trial_pop=samp_trial_pop,\n",
    "                                      time_samp_prop=time_samp_prop,\n",
    "                                      filter_row_idx=filter_row_idx,\n",
    "                                      fs=fs, window=window, nperseg=nperseg, noverlap=noverlap,\n",
    "                                      log_Sxx=log_Sxx,\n",
    "                                      n_components=n_components, \n",
    "                                      init=init, \n",
    "                                      random_state=random_state, \n",
    "                                      beta_loss=beta_loss, # I-S loss NMF\n",
    "                                      solver=solver,\n",
    "                                      max_iter=max_iter)"
   ]
  },
  {
   "cell_type": "code",
   "execution_count": null,
   "metadata": {},
   "outputs": [],
   "source": [
    "#freq_ticks\n",
    "plotW(W = W2, log=False, x_ticks_l=freq_ticks)"
   ]
  },
  {
   "cell_type": "code",
   "execution_count": null,
   "metadata": {},
   "outputs": [],
   "source": [
    "plotH(H = H2, log=False, y_ticks_l=None)"
   ]
  },
  {
   "cell_type": "code",
   "execution_count": null,
   "metadata": {},
   "outputs": [],
   "source": [
    "num_reps = 20\n",
    "results_NMF = [entire_specgram_nmf_wrapper(base_data_dir=base_data_dir, core_cat=core_cat, trials_type=trials_type,\n",
    "                                      patient_num=patient_num, session_idx=session_idx, \n",
    "                                      tot_num_channels=tot_num_channels, \n",
    "                                      samp_trial_pop=0.9, # 70% sampling of trials\n",
    "                                      time_samp_prop=1.0, # 20% sampling of time)\n",
    "                                      filter_row_idx=filter_row_idx,\n",
    "                                      fs=fs, window=window, nperseg=nperseg,\n",
    "                                      log_Sxx=False,\n",
    "                                      n_components=8, \n",
    "                                      init='random', \n",
    "                                      random_state=0, \n",
    "                                      beta_loss='itakura-saito', \n",
    "                                      solver = 'mu',\n",
    "                                      max_iter=400) for i in range(num_reps)]"
   ]
  },
  {
   "cell_type": "markdown",
   "metadata": {},
   "source": [
    "### Create the tensor of all the $W$ matrices"
   ]
  },
  {
   "cell_type": "code",
   "execution_count": null,
   "metadata": {},
   "outputs": [],
   "source": [
    "W_mats = [results_NMF[i][1] for i in range(len(results_NMF))]\n",
    "W_tens = np.dstack(tup=W_mats)\n",
    "W_tens.shape\n",
    "W_tens[:, 0, :].shape\n",
    "len(W_mats)\n",
    "#W_mats[9].shape"
   ]
  },
  {
   "cell_type": "code",
   "execution_count": null,
   "metadata": {},
   "outputs": [],
   "source": [
    "def repl_check_W(W_tens, W_all_trials, component, x_ticks_l):\n",
    "    plt.figure(figsize=(20, 16), dpi= 80, facecolor='w', edgecolor='k')\n",
    "    num_replicates = W_tens.shape[1]\n",
    "    plt.title(f'Plot of W Component {component + 1}', fontsize=16)    \n",
    "    legend_names = [f'Comp {n + 1}' for n in range(num_replicates)]    \n",
    "    plt.plot(W_tens[:, component, :])\n",
    "    plt.xticks(range(0, W_all_trials.shape[0]), x_ticks_l, rotation='vertical')\n",
    "    plt.legend(legend_names, loc=9, bbox_to_anchor=(0.5, -0.1), ncol = 10)\n",
    "    plt.show()   \n",
    "    \n",
    "    plt.figure(figsize=(20, 16), dpi= 80, facecolor='w', edgecolor='k')\n",
    "    plt.plot(W_all_trials[:, component])\n",
    "    plt.title(f'Plot of W Component {component + 1}', fontsize=16)    \n",
    "    plt.xticks(range(0, W_all_trials.shape[0]), x_ticks_l, rotation='vertical')\n",
    "    plt.ylabel(f'Component {component + 1}')\n",
    "    plt.show()\n",
    "\n",
    "repl_check_W(W_tens=W_tens, W_all_trials=W, component=0, x_ticks_l=freq_ticks)"
   ]
  },
  {
   "cell_type": "markdown",
   "metadata": {},
   "source": [
    "### Replicate NMF 20 times \n",
    "#### (100% sampling of trials, 20% sampling of time)"
   ]
  },
  {
   "cell_type": "code",
   "execution_count": null,
   "metadata": {},
   "outputs": [],
   "source": [
    "num_reps = 20\n",
    "results_NMF1 = [entire_specgram_nmf_wrapper(base_data_dir=base_data_dir, core_cat=core_cat, trials_type=trials_type,\n",
    "                                      patient_num=patient_num, session_idx=session_idx, \n",
    "                                      tot_num_channels=tot_num_channels, \n",
    "                                      samp_trial_pop=1.0, # 100% sampling of trials\n",
    "                                      time_samp_prop=1.0, # 20% sampling of time)\n",
    "                                      filter_row_idx=filter_row_idx,\n",
    "                                      fs=fs, window=window, nperseg=nperseg,\n",
    "                                      log_Sxx=False,\n",
    "                                      n_components=8, \n",
    "                                      init='random', \n",
    "                                      random_state=0, \n",
    "                                      beta_loss='itakura-saito', \n",
    "                                      solver = 'mu',\n",
    "                                      max_iter=400) for i in range(num_reps)]"
   ]
  },
  {
   "cell_type": "code",
   "execution_count": null,
   "metadata": {},
   "outputs": [],
   "source": [
    "#results_NMF1 = results_NMF\n",
    "W_mats1 = [results_NMF1[i][1] for i in range(len(results_NMF1))]\n",
    "W_tens1 = np.dstack(tup=W_mats1)\n",
    "W_tens1.shape\n",
    "W_tens1[:, 0, :].shape\n",
    "#len(W_mats)\n",
    "#W_mats[9].shape"
   ]
  },
  {
   "cell_type": "code",
   "execution_count": null,
   "metadata": {},
   "outputs": [],
   "source": [
    "repl_check_W(W_tens=W_tens1, W_all_trials=W, component=0, x_ticks_l=freq_ticks)"
   ]
  },
  {
   "cell_type": "markdown",
   "metadata": {},
   "source": [
    "## New tasks - for Discussion\n",
    "- How many frequency bands to choose? Is 8 reasonable, can we select these in a more principled way?\n",
    "- What are the highest observed frequencies in the brain at which something interesting is observed to occur?\n",
    "- Check stability when trials are sampled and how to deal with this?\n",
    "- Combine sessions for a single patient\n",
    "- Combine patients at some point?\n",
    "- Consider the time lag in the ERP signal?\n",
    "- AG: Taper - wavelet basis. Different frequencies\n",
    "- AG: Sample equally in frequencies and time"
   ]
  },
  {
   "cell_type": "code",
   "execution_count": null,
   "metadata": {},
   "outputs": [],
   "source": []
  }
 ],
 "metadata": {
  "kernelspec": {
   "display_name": "Python 3",
   "language": "python",
   "name": "python3"
  },
  "language_info": {
   "codemirror_mode": {
    "name": "ipython",
    "version": 3
   },
   "file_extension": ".py",
   "mimetype": "text/x-python",
   "name": "python",
   "nbconvert_exporter": "python",
   "pygments_lexer": "ipython3",
   "version": "3.6.5"
  }
 },
 "nbformat": 4,
 "nbformat_minor": 2
}
