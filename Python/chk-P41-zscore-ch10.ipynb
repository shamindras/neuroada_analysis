{
 "cells": [
  {
   "cell_type": "markdown",
   "metadata": {},
   "source": [
    "# All Spectrogram Code Setup"
   ]
  },
  {
   "cell_type": "code",
   "execution_count": 11,
   "metadata": {},
   "outputs": [],
   "source": [
    "%matplotlib inline\n",
    "import random\n",
    "import os\n",
    "import matplotlib.pyplot as plt\n",
    "import numpy as np\n",
    "from scipy import signal, stats\n",
    "from sklearn.decomposition import NMF\n",
    "import pandas as pd\n",
    "from IPython.display import Image\n",
    "\n",
    "def get_all_pat_chn_trials(base_data_dir, patient_num, session_idx, tot_num_channels, \n",
    "                           core_cat, trials_type, ord):\n",
    "    # TODO: Fix the default norm value to be None, and allow other norms to flow through\n",
    "    \"\"\"Get all trials for each channel for a given category\"\"\"    \n",
    "    \n",
    "    patient_ref = f\"P{patient_num:02}\"\n",
    "    #print(\"patient_ref\", patient_ref, sep =\": \")\n",
    "    patient_data_dir = os.path.join(base_data_dir, f\"{patient_ref}_specgram\", \n",
    "                                    f\"{trials_type}\", \n",
    "                                    f\"session_{session_idx:02}\",\n",
    "                                    f\"{core_cat}\")\n",
    "    #print(\"patient_data_dir\", patient_data_dir, sep =\": \")\n",
    "    patient_csv_refs = [os.path.join(patient_data_dir, f\"{patient_ref}-ses-{session_idx:02}-chn-{channel_idx + 1:02}-{core_cat}.csv\") \n",
    "                        for channel_idx in tot_num_channels]\n",
    "    #print(\"patient_csv_refs\", patient_csv_refs[0], sep =\": \")\n",
    "    all_patient_trials = [np.loadtxt(fname = patient_csv_ref, skiprows = 1, delimiter = \",\") for \n",
    "                          patient_csv_ref in patient_csv_refs]\n",
    "    \n",
    "    # Normalize the trial based on the specified norm type\n",
    "    if ord is not None:\n",
    "        print(f\"we are using the {ord}-norm to normalize trials\")\n",
    "        all_patient_trials = [trials / np.linalg.norm(trials, ord=ord, axis=1, keepdims=True) for trials in all_patient_trials]\n",
    "\n",
    "    return all_patient_trials\n",
    "\n",
    "def samp_idx_without_replace(np_arr, samp_prop, sample_rows):\n",
    "    \"\"\"Returns a list of unique row indices from the total number of trials\"\"\"\n",
    "    if sample_rows:\n",
    "        # sample the number of rows\n",
    "        sample_type = 0\n",
    "    else:\n",
    "        # sample the number of columns\n",
    "        sample_type = 1\n",
    "    tot_num_idxs = np_arr.shape[sample_type]\n",
    "    samp_num_rows = int(np.floor(tot_num_idxs * samp_prop))\n",
    "    return sorted(random.sample(range(tot_num_idxs), samp_num_rows))\n",
    "\n",
    "def erp_gen_spectrogram(x, fs, window, nperseg, noverlap, log_Sxx):\n",
    "    \"\"\"Generate the spectrogram and return the modulus (or log modulus)\"\"\"\n",
    "    f, t, Sxx = signal.spectrogram(x = x, fs = fs, window = window, nperseg = nperseg, noverlap = noverlap)\n",
    "    if log_Sxx:\n",
    "        Sxx = np.log(Sxx)\n",
    "    return f, t, Sxx\n",
    "\n",
    "def erp_gen_welch(x, fs, window, nperseg, noverlap):\n",
    "    \"\"\"Estimate power spectral density using Welch’s method.\"\"\"\n",
    "    f, psd = signal.welch(x = x, fs = fs, window = window, nperseg = nperseg, noverlap = noverlap)\n",
    "    return f, psd\n",
    "\n",
    "def specgram_trials(arr_all_trials, fs, window, nperseg, \n",
    "                    trials_samp_idx, filter_row_idx, log_Sxx):\n",
    "    \"\"\"Produce a combined list of spectrograms concatenated by frequency (horizontally)\"\"\"\n",
    "    if trials_samp_idx is None:\n",
    "        # Produce spectrograms for all of the trials\n",
    "        all_trial_idx = range(arr_all_trials.shape[0])\n",
    "        trial_specgrams = [erp_gen_spectrogram(x=arr_all_trials[idx], fs=fs, window=window, nperseg=nperseg, \n",
    "                                               noverlap=noverlap, log_Sxx=log_Sxx)[2] for idx in all_trial_idx]\n",
    "    else:\n",
    "        # Produce spectrograms for only the specified trials (by trial indices)\n",
    "        trial_specgrams = [erp_gen_spectrogram(x = arr_all_trials[idx], fs = fs, window = window, nperseg = nperseg, \n",
    "                                               noverlap=noverlap, log_Sxx=log_Sxx)[2] for idx in trials_samp_idx]\n",
    "    \n",
    "    # Concatenate the combined spectrograms across time i.e. horizontally\n",
    "    comb_specgram = np.hstack(trial_specgrams)\n",
    "    \n",
    "    # Filter the rows of the combined spectrogram    \n",
    "    if filter_row_idx is None:\n",
    "        # Don't filter any rows in the combined spectrogram\n",
    "        comb_specgram = comb_specgram\n",
    "    else:\n",
    "        comb_specgram = comb_specgram[filter_row_idx]\n",
    "    return comb_specgram\n",
    "\n",
    "def specgram_wrapper(arr_all_trials, tot_num_channels, fs, window, nperseg, \n",
    "                     trials_samp_idx, filter_row_idx, log_Sxx):\n",
    "    \"\"\"Wrapper to produce spectrograms across all trials (or samples thereof) and the specified\n",
    "       channels for the particular patient\"\"\"\n",
    "    all_channels_specgrams = [specgram_trials(arr_all_trials=arr_all_trials[channel_idx],\n",
    "                                              fs = fs, window = window, nperseg = nperseg,\n",
    "                                              trials_samp_idx=trials_samp_idx, filter_row_idx=filter_row_idx,\n",
    "                                              log_Sxx=log_Sxx) \n",
    "                              for channel_idx in range(len(tot_num_channels))]\n",
    "    comb_all_channels_specgrams = np.hstack(all_channels_specgrams)\n",
    "    return comb_all_channels_specgrams\n",
    "\n",
    "def time_sample_specgram(comb_specgram, time_samp_idx):\n",
    "    \"\"\"samples a combined spectrogram of signals (horizontally stacked) and samples by time i.e. shortens by column\"\"\"\n",
    "    return comb_specgram[:, time_samp_idx]    \n",
    "\n",
    "def nmf_specgrams(comb_specgram, n_components=5, init='random', random_state=0, beta_loss='itakura-saito', solver = 'mu', max_iter=200):\n",
    "    model = NMF(n_components=n_components, init=init, random_state=random_state, beta_loss=beta_loss, solver=solver, max_iter=max_iter)\n",
    "    W = model.fit_transform(X=comb_specgram)\n",
    "    H = model.components_\n",
    "    return W, H\n",
    "\n",
    "def nmf_wrapper(comb_all_channels_specgrams, n_components=5, init='random', random_state=0, \n",
    "                beta_loss='itakura-saito', solver = 'mu', max_iter=200):\n",
    "    W, H = nmf_specgrams(comb_all_channels_specgrams, n_components=n_components, init=init, random_state=random_state, \n",
    "                         beta_loss=beta_loss, solver=solver, max_iter=max_iter)\n",
    "    print(\"V\", comb_all_channels_specgrams.shape, sep = \": \")\n",
    "    print(\"W\", W.shape, sep = \": \")\n",
    "    print(\"H\", H.shape, sep = \": \")\n",
    "    return comb_all_channels_specgrams, W, H\n",
    "\n",
    "### Plot the \"basis\" vectors i.e. columns of W\n",
    "\n",
    "def plotW(W, log=True, x_ticks_l=None):\n",
    "    if log:\n",
    "        W_plt = np.log(W)\n",
    "    else:\n",
    "        W_plt = W\n",
    "    n_components = W.shape[1]    \n",
    "    for n in range(W.shape[1]):\n",
    "        plt.style.use('seaborn')\n",
    "        plt.figure(figsize=(20, 16), dpi= 80, facecolor='w', edgecolor='k')\n",
    "        plt.subplot(np.ceil(n_components/2.0), 2, n+1)\n",
    "        plt.plot(W_plt[:,n])\n",
    "        plt.title(f'Plot of W Component {n + 1}', fontsize=16)\n",
    "        #plt.ylim(-2, W_plt.max())\n",
    "        if x_ticks_l is None:\n",
    "            plt.xlim(0, W_plt.shape[0])\n",
    "        else:\n",
    "            plt.xticks(range(0, W_plt.shape[0]), np.around(x_ticks_l), rotation='vertical')\n",
    "        plt.ylabel(f'Component {n + 1}')\n",
    "\n",
    "### Plot the rows of H i.e. the temporal activations\n",
    "\n",
    "def plotH(H, log=False, y_ticks_l=None):\n",
    "    print(H.shape[1])\n",
    "    if log:\n",
    "        H_plt = np.log(H)\n",
    "    else:\n",
    "        H_plt = H\n",
    "    n_components = H.shape[0]    \n",
    "    for n in range(H_plt.shape[0]):\n",
    "        plt.style.use('seaborn')\n",
    "        plt.figure(figsize=(16, 14), dpi= 80, facecolor='w', edgecolor='k')\n",
    "        plt.subplot(np.ceil(n_components/2.0), 2, n+1)\n",
    "        plt.title(f'Plot of H Component {n + 1}', fontsize=16)\n",
    "        plt.plot(H_plt[n])\n",
    "        #if y_ticks_l is None:\n",
    "        #    plt.ylim(0, H_plt.shape[1])\n",
    "        #else:\n",
    "        #    plt.yticks(range(0, H_plt.shape[1]), np.around(y_ticks_l, decimals=-1), rotation='vertical')\n",
    "        #plt.ylim(0, H.max())\n",
    "        plt.xlim(0, H_plt.shape[1])\n",
    "        plt.ylabel(f'Component {n + 1}')\n",
    "        \n",
    "def entire_specgram_nmf_wrapper(base_data_dir, core_cat, trials_type,\n",
    "                                patient_num, session_idx, tot_num_channels, samp_trial_pop, \n",
    "                                noverlap,\n",
    "                                ord=None,\n",
    "                                time_samp_prop=0.2,\n",
    "                                filter_row_idx=None,                                \n",
    "                                log_Sxx=False,\n",
    "                                fs=1e3, window='hann', nperseg=128,\n",
    "                                n_components=8, \n",
    "                                init='random', \n",
    "                                random_state=0, \n",
    "                                beta_loss='itakura-saito', \n",
    "                                solver = 'mu',\n",
    "                                max_iter=400):\n",
    "    \n",
    "    # Get all the channels and trials (DONE)\n",
    "    all_patient_trials = get_all_pat_chn_trials(base_data_dir=base_data_dir, patient_num=patient_num, \n",
    "                                                session_idx=session_idx, tot_num_channels=tot_num_channels, \n",
    "                                                core_cat=core_cat, trials_type=trials_type, ord=ord)\n",
    "\n",
    "    trials_samp_idx = samp_idx_without_replace(np_arr=all_patient_trials[0], samp_prop=samp_trial_pop, \n",
    "                                               sample_rows=True)\n",
    "    print(len(trials_samp_idx))\n",
    "\n",
    "    # Fit the spectrograms and hstack the spectrograms\n",
    "    comb_all_channels_specgrams = specgram_wrapper(arr_all_trials=all_patient_trials, \n",
    "                                                   trials_samp_idx=trials_samp_idx, \n",
    "                                                   tot_num_channels=tot_num_channels,\n",
    "                                                   fs=fs, window=window, nperseg=nperseg,\n",
    "                                                   filter_row_idx=filter_row_idx, \n",
    "                                                   log_Sxx=log_Sxx)\n",
    "\n",
    "    # randomly sample across time\n",
    "    time_samp_idx = samp_idx_without_replace(np_arr=comb_all_channels_specgrams, \n",
    "                                             samp_prop=time_samp_prop, \n",
    "                                             sample_rows=False)\n",
    "    \n",
    "    print(\"comb_all_channels_specgrams:\", comb_all_channels_specgrams.shape, sep = \" \")\n",
    "    print(\"time_samp_idx length:\", len(time_samp_idx), sep = \" \")\n",
    "\n",
    "    comb_specgram_time_sample = time_sample_specgram(comb_specgram=comb_all_channels_specgrams, \n",
    "                                                     time_samp_idx=time_samp_idx)\n",
    "    \n",
    "    print(\"comb_specgram_time_sample:\", comb_specgram_time_sample.shape, sep=\" \")\n",
    "    \n",
    "    print(\"STARTING NMF...\")\n",
    "    \n",
    "    # perform NMF\n",
    "    V, W, H = nmf_wrapper(comb_all_channels_specgrams=comb_specgram_time_sample, \n",
    "                          n_components=n_components,\n",
    "                          init=init, \n",
    "                          random_state=random_state, \n",
    "                          beta_loss=beta_loss, \n",
    "                          solver=solver,\n",
    "                          max_iter=max_iter)\n",
    "    \n",
    "    print(\"NMF COMPLETE!\")\n",
    "    \n",
    "    return V, W, H        "
   ]
  },
  {
   "cell_type": "markdown",
   "metadata": {},
   "source": [
    "# 85 Channels - P41, Faces, Session 1"
   ]
  },
  {
   "cell_type": "markdown",
   "metadata": {},
   "source": [
    "### Perform NMF for P41 - 85 Channels, Faces, Session 1 - DENORMALIZED TRIALS, IS DIVERGENCE NMF\n",
    "#### (100% sampling of trials, 100% sampling of time)"
   ]
  },
  {
   "cell_type": "code",
   "execution_count": 2,
   "metadata": {},
   "outputs": [],
   "source": [
    "np.random.seed(seed=103224)"
   ]
  },
  {
   "cell_type": "code",
   "execution_count": 3,
   "metadata": {},
   "outputs": [],
   "source": [
    "base_data_dir = \"/Users/shamindras/PERSONAL/LEARNING/REPOS/neuroada_analysis/data/localizer_erp\"\n",
    "patient_num = 41\n",
    "tot_num_channels = range(85)\n",
    "trials_type = \"category\"\n",
    "session_idx = 1\n",
    "core_cat = \"Faces\"\n",
    "\n",
    "# Spectrogram parameters\n",
    "fs = 1e3\n",
    "window = 'hann'\n",
    "nperseg = 192\n",
    "noverlap = 96\n",
    "log_Sxx=False\n",
    "spec_trial_num = 10 # Specific Trial Index that we are going to test\n",
    "spec_trial_idx = spec_trial_num - 1\n",
    "\n",
    "channel_num = 10\n",
    "channel_idx = channel_num - 1\n",
    "\n",
    "base_data_dir = \"/Users/shamindras/PERSONAL/LEARNING/REPOS/neuroada_analysis/data/localizer_erp\"\n",
    "ord = None # No normalization trials\n",
    "samp_trial_pop = 1.0 # 100% sampling of trials\n",
    "time_samp_prop = 1.0 # 100% sampling of time\n",
    "filter_row_idx=range(21)\n",
    "n_components = 8 \n",
    "init = 'random' \n",
    "random_state = 0\n",
    "beta_loss = 'itakura-saito' # IS Divergence\n",
    "solver = 'mu'\n",
    "max_iter = 400"
   ]
  },
  {
   "cell_type": "markdown",
   "metadata": {},
   "source": [
    "# Get all trials for by channel"
   ]
  },
  {
   "cell_type": "code",
   "execution_count": 4,
   "metadata": {},
   "outputs": [],
   "source": [
    "all_pat_chn_trials = get_all_pat_chn_trials(base_data_dir=base_data_dir, patient_num=patient_num, \n",
    "                                   session_idx=session_idx, tot_num_channels=tot_num_channels, \n",
    "                                   core_cat=core_cat, trials_type=trials_type, ord=ord)"
   ]
  },
  {
   "cell_type": "markdown",
   "metadata": {},
   "source": [
    "## Util for Z-scoring spectrograms for a given set of trials"
   ]
  },
  {
   "cell_type": "code",
   "execution_count": 5,
   "metadata": {},
   "outputs": [],
   "source": [
    "def zscore_manl(arr, col_min_rng, col_max_rng):\n",
    "    trunc_arr = arr[col_min_rng:col_max_rng]\n",
    "    mu = np.mean(trunc_arr)\n",
    "    sd = np.std(trunc_arr, ddof=1)\n",
    "    return (arr - mu)/sd\n",
    "\n",
    "def only_specgram_trials(arr_all_trials, fs, window, nperseg, noverlap,\n",
    "                    trials_samp_idx=None, filter_row_idx=None, log_Sxx=False):\n",
    "    \"\"\"Produce a combined list of spectrograms concatenated by frequency (horizontally)\"\"\"\n",
    "    if trials_samp_idx is None:\n",
    "        # Produce spectrograms for all of the trials\n",
    "        all_trial_idx = range(arr_all_trials.shape[0])\n",
    "        trial_specgrams = [erp_gen_spectrogram(x = arr_all_trials[idx], fs = fs, window = window, nperseg = nperseg,\n",
    "                                               noverlap=noverlap, log_Sxx=log_Sxx)[2] for idx in all_trial_idx]\n",
    "    else:\n",
    "        # Produce spectrograms for only the specified trials (by trial indices)\n",
    "        trial_specgrams = [erp_gen_spectrogram(x = arr_all_trials[idx], fs = fs, window = window, nperseg = nperseg, \n",
    "                                               noverlap=noverlap, log_Sxx=log_Sxx)[2] for idx in trials_samp_idx]\n",
    "    \n",
    "    # Filter the rows of the combined spectrogram    \n",
    "    if filter_row_idx is None:\n",
    "        # Don't filter any rows in the combined spectrogram\n",
    "        trial_specgrams = trial_specgrams\n",
    "    else:\n",
    "        trial_specgrams = [specgram[filter_row_idx] for specgram in trial_specgrams]\n",
    "    return trial_specgrams\n",
    "\n",
    "def zscore_specgram(Sxx, col_min_rng, col_max_rng):\n",
    "    out = [zscore_manl(arr=Sxx[row_idx, :], col_min_rng=col_min_rng, col_max_rng=col_max_rng) \n",
    "           for row_idx in range(Sxx.shape[0])]\n",
    "    return np.vstack(out)\n",
    "\n",
    "def zscore_specgram_wrapper(arr_all_trials, col_min_rng, col_max_rng, \n",
    "                            fs, window, nperseg, noverlap,\n",
    "                            trials_samp_idx, filter_row_idx, log_Sxx):\n",
    "    \"\"\"\"\"\"\n",
    "    # Get spectrograms for all of the trials\n",
    "    specgram_trials = only_specgram_trials(arr_all_trials=arr_all_trials, fs=fs, window=window, nperseg=nperseg, noverlap=noverlap,\n",
    "                                           trials_samp_idx=trials_samp_idx, filter_row_idx=filter_row_idx, log_Sxx=log_Sxx)\n",
    "\n",
    "    # Z-score sprectrograms\n",
    "    z_specgrams = [zscore_specgram(Sxx, col_min_rng=col_min_rng, col_max_rng=col_max_rng)\n",
    "                   for Sxx in specgram_trials]\n",
    "    #print(f\"the dimension of z_specgrams[0] is {z_specgrams[0].shape}\")\n",
    "    \n",
    "    comb_z_specgrams = np.dstack(z_specgrams)\n",
    "    #print(f\"the dimension of comb_z_specgrams is {comb_z_specgrams.shape}\")\n",
    "    \n",
    "    # Get mean across corresponding elements of the spectrograms\n",
    "    mean_z_specgrams = np.mean(z_specgrams, axis=0)\n",
    "    #print(f\"the dimension of mean_z_specgrams is {mean_z_specgrams.shape}\")\n",
    "    \n",
    "    return mean_z_specgrams"
   ]
  },
  {
   "cell_type": "markdown",
   "metadata": {},
   "source": [
    "## Run it!"
   ]
  },
  {
   "cell_type": "code",
   "execution_count": 8,
   "metadata": {},
   "outputs": [],
   "source": [
    "f, t, Sxx = erp_gen_spectrogram(x = all_pat_chn_trials[channel_idx][0], fs = fs, window = window, nperseg = nperseg, noverlap = noverlap, log_Sxx=log_Sxx)"
   ]
  },
  {
   "cell_type": "code",
   "execution_count": 9,
   "metadata": {},
   "outputs": [],
   "source": [
    "zs = zscore_specgram_wrapper(arr_all_trials=all_pat_chn_trials[9], col_min_rng=1, col_max_rng=5, \n",
    "                            fs=fs, window=window, nperseg=nperseg, noverlap=noverlap,\n",
    "                            trials_samp_idx=None, filter_row_idx=None, log_Sxx=False)"
   ]
  },
  {
   "cell_type": "code",
   "execution_count": 10,
   "metadata": {},
   "outputs": [
    {
     "data": {
      "image/png": "[encoded data removed]",
      "text/plain": [
       "<Figure size 432x288 with 2 Axes>"
      ]
     },
     "metadata": {},
     "output_type": "display_data"
    }
   ],
   "source": [
    "plt.pcolormesh(t, f[range(20)], zs[range(20), :], cmap='viridis')\n",
    "plt.title(f\"Spectrogram modulus values (raw not log) - {core_cat}\")\n",
    "plt.ylabel('Frequency [Hz]')\n",
    "plt.xlabel('Time [sec]')\n",
    "plt.colorbar().set_label('Intensity')\n",
    "plt.show()"
   ]
  },
  {
   "cell_type": "markdown",
   "metadata": {},
   "source": [
    "## Yuannings plot - using a tapered wavelet basis"
   ]
  },
  {
   "cell_type": "code",
   "execution_count": 13,
   "metadata": {},
   "outputs": [
    {
     "data": {
      "image/png": "[encoded data removed]",
      "text/plain": [
       "<IPython.core.display.Image object>"
      ]
     },
     "execution_count": 13,
     "metadata": {
      "image/png": {
       "height": 400,
       "width": 400
      }
     },
     "output_type": "execute_result"
    }
   ],
   "source": [
    "Image(filename = \"./images/yuanning-p41-ch10-faces-session-1.png\", width=400, height=400)"
   ]
  },
  {
   "cell_type": "markdown",
   "metadata": {},
   "source": [
    "#### Conclusion\n",
    "\n",
    "Plots look similar. Wavelet basis looks smoother as expected, it is oversampled!"
   ]
  }
 ],
 "metadata": {
  "kernelspec": {
   "display_name": "Python 3",
   "language": "python",
   "name": "python3"
  },
  "language_info": {
   "codemirror_mode": {
    "name": "ipython",
    "version": 3
   },
   "file_extension": ".py",
   "mimetype": "text/x-python",
   "name": "python",
   "nbconvert_exporter": "python",
   "pygments_lexer": "ipython3",
   "version": "3.6.5"
  }
 },
 "nbformat": 4,
 "nbformat_minor": 2
}
