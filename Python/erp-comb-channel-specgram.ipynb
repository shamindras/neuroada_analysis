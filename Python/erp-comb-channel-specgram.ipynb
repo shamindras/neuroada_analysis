{
 "cells": [
  {
   "cell_type": "markdown",
   "metadata": {},
   "source": [
    "# Spectrogram setup in Python"
   ]
  },
  {
   "cell_type": "code",
   "execution_count": 16,
   "metadata": {},
   "outputs": [],
   "source": [
    "import random\n",
    "import os\n",
    "import matplotlib.pyplot as plt\n",
    "import numpy as np\n",
    "from scipy import signal\n",
    "from sklearn.decomposition import NMF"
   ]
  },
  {
   "cell_type": "code",
   "execution_count": 14,
   "metadata": {},
   "outputs": [],
   "source": [
    "def get_all_pat_chn_trials(patient_num, session_idx, tot_num_channels):\n",
    "    \"\"\"Get all trials for each channel for a given category\"\"\"\n",
    "    \n",
    "    patient_ref = f\"P{patient_num:02}\"\n",
    "    patient_data_dir = os.path.join(base_data_dir, f\"{patient_ref}_specgram\")\n",
    "    patient_csv_refs = [os.path.join(patient_data_dir, f\"{patient_ref}-ses-{session_idx:02}-chn-{channel_idx + 1:02}-{core_cat}.csv\") for channel_idx in range(tot_num_channels)]\n",
    "\n",
    "    all_patient_trials = [np.loadtxt(fname = patient_csv_ref, skiprows = 1, delimiter = \",\") for \n",
    "                          patient_csv_ref in patient_csv_refs]\n",
    "    return all_patient_trials\n",
    "\n",
    "def samp_idx_without_replace(np_arr, samp_prop=0.5):\n",
    "    \"\"\"Returns a list of unique row indices from the total number of trials\"\"\"\n",
    "    tot_num_rows = np_arr.shape[0]\n",
    "    samp_num_rows = int(np.floor(tot_num_rows * samp_prop))\n",
    "    return sorted(random.sample(range(tot_num_rows), samp_num_rows))\n",
    "\n",
    "def erp_gen_spectrogram(x, fs = 1e3, window = 'hann', nperseg = 128, noverlap = 96):\n",
    "    \"\"\"Generate the spectrogram and return the modulus\"\"\"\n",
    "    f, t, Sxx = signal.spectrogram(x = x, fs = fs, window = window, nperseg = nperseg, noverlap = noverlap)\n",
    "    return f, t, Sxx\n",
    "\n",
    "def specgram_trials(arr_all_trials, samp_idx, filter_row_idx):\n",
    "    \"\"\"Produce a combined list of spectrograms concatenated by frequency (horizontally)\"\"\"\n",
    "    trial_specgrams = [erp_gen_spectrogram(x = arr_all_trials[idx])[2] for idx in samp_idx]\n",
    "    comb_specgram = np.hstack(trial_specgrams)\n",
    "    comb_specgram = comb_specgram[filter_row_idx]\n",
    "    return comb_specgram\n",
    "\n",
    "def specgram_wrapper(arr_all_trials, samp_idx, filter_row_idx, tot_num_channels):\n",
    "    all_channels_specgrams = [specgram_trials(arr_all_trials=arr_all_trials[channel_idx], samp_idx=samp_idx, filter_row_idx=filter_row_idx) for channel_idx in range(tot_num_channels)]\n",
    "    #[specgram.shape for specgram in all_channels_specgrams]\n",
    "    comb_all_channels_specgrams = np.hstack(all_channels_specgrams)\n",
    "    return comb_all_channels_specgrams\n",
    "\n",
    "def nmf_specgrams(comb_specgram, n_components=5, init='random', random_state=0, beta_loss='itakura-saito', solver = 'mu', max_iter=200):\n",
    "    model = NMF(n_components=n_components, init=init, random_state=random_state, beta_loss=beta_loss, solver=solver, max_iter=max_iter)\n",
    "    W = model.fit_transform(X=comb_specgram)\n",
    "    H = model.components_\n",
    "    return W, H\n",
    "\n",
    "def nmf_wrapper(comb_all_channels_specgrams, samp_idx, n_components=5, init='random', random_state=0, \n",
    "                beta_loss='itakura-saito', solver = 'mu', max_iter=200):\n",
    "    W, H = nmf_specgrams(comb_all_channels_specgrams, n_components=n_components, init=init, random_state=random_state, \n",
    "                         beta_loss=beta_loss, solver=solver, max_iter=max_iter)\n",
    "    print(\"V\", comb_all_channels_specgrams.shape, sep = \": \")\n",
    "    print(\"W\", W.shape, sep = \": \")\n",
    "    print(\"H\", H.shape, sep = \": \")\n",
    "    return comb_all_channels_specgrams, W, H"
   ]
  },
  {
   "cell_type": "markdown",
   "metadata": {},
   "source": [
    "### Plot the \"basis\" vectors i.e. columns of W"
   ]
  },
  {
   "cell_type": "code",
   "execution_count": 15,
   "metadata": {},
   "outputs": [],
   "source": [
    "def plotW(W, log=True):\n",
    "    if log:\n",
    "        W_plt = np.log(W)\n",
    "    else:\n",
    "        W_plt = W\n",
    "    n_components = W.shape[1]    \n",
    "    for n in range(W.shape[1]):\n",
    "        plt.subplot(np.ceil(n_components/2.0), 2, n+1)\n",
    "        plt.plot(W_plt[:,n])\n",
    "        plt.ylim(-2, W_plt.max())\n",
    "        plt.xlim(0, W_plt.shape[0])\n",
    "        plt.ylabel('Component %d' % n)"
   ]
  },
  {
   "cell_type": "markdown",
   "metadata": {},
   "source": [
    "### Plot the rows of H i.e. the temporal activations"
   ]
  },
  {
   "cell_type": "code",
   "execution_count": 7,
   "metadata": {},
   "outputs": [],
   "source": [
    "def plotH(H, log=False):\n",
    "    if log:\n",
    "        H_plt = np.log(H)\n",
    "    else:\n",
    "        H_plt = H\n",
    "    n_components = H.shape[0]    \n",
    "    for n in range(H.shape[0]):\n",
    "        plt.subplot(np.ceil(n_components/2.0), 2, n+1)\n",
    "        plt.plot(H[n])\n",
    "        plt.ylim(0, H.max())\n",
    "        plt.xlim(0, H.shape[1])\n",
    "        plt.ylabel('Component %d' % n)"
   ]
  },
  {
   "cell_type": "markdown",
   "metadata": {},
   "source": [
    "# 85 Channels - P35, Faces, Session 1"
   ]
  },
  {
   "cell_type": "code",
   "execution_count": 8,
   "metadata": {},
   "outputs": [],
   "source": [
    "base_data_dir = \"/Users/shamindras/PERSONAL/LEARNING/REPOS/neuroada_analysis/data/localizer_erp\"\n",
    "patient_num = 35\n",
    "tot_num_channels = 85\n",
    "session_idx = 1\n",
    "core_cat = \"Faces\"\n",
    "samp_prop = 0.2\n",
    "max_iter = 400"
   ]
  },
  {
   "cell_type": "code",
   "execution_count": 9,
   "metadata": {},
   "outputs": [
    {
     "data": {
      "text/plain": [
       "(16, 58480)"
      ]
     },
     "execution_count": 9,
     "metadata": {},
     "output_type": "execute_result"
    }
   ],
   "source": [
    "all_patient_trials = get_all_pat_chn_trials(patient_num = patient_num, session_idx = session_idx, tot_num_channels = tot_num_channels)\n",
    "samp_idx = samp_idx_without_replace(np_arr=all_patient_trials[0], samp_prop=samp_prop)\n",
    "comb_all_channels_specgrams = specgram_wrapper(arr_all_trials=all_patient_trials, samp_idx = samp_idx, tot_num_channels = tot_num_channels, filter_row_idx=range(16))\n",
    "comb_all_channels_specgrams.shape"
   ]
  },
  {
   "cell_type": "code",
   "execution_count": 10,
   "metadata": {},
   "outputs": [
    {
     "name": "stdout",
     "output_type": "stream",
     "text": [
      "V: (16, 58480)\n",
      "W: (16, 8)\n",
      "H: (8, 58480)\n"
     ]
    },
    {
     "name": "stderr",
     "output_type": "stream",
     "text": [
      "/Users/shamindras/anaconda/envs/sklearnprod1/lib/python3.6/site-packages/sklearn/decomposition/nmf.py:1035: ConvergenceWarning: Maximum number of iteration 400 reached. Increase it to improve convergence.\n",
      "  \" improve convergence.\" % max_iter, ConvergenceWarning)\n"
     ]
    }
   ],
   "source": [
    "V1, W1, H1 = nmf_wrapper(comb_all_channels_specgrams=comb_all_channels_specgrams, samp_idx=samp_idx, \n",
    "                         n_components=8, init='random', random_state=0, beta_loss='itakura-saito', solver = 'mu',max_iter=max_iter)"
   ]
  },
  {
   "cell_type": "code",
   "execution_count": 11,
   "metadata": {},
   "outputs": [
    {
     "name": "stderr",
     "output_type": "stream",
     "text": [
      "/Users/shamindras/anaconda/envs/sklearnprod1/lib/python3.6/site-packages/ipykernel_launcher.py:3: RuntimeWarning: divide by zero encountered in log\n",
      "  This is separate from the ipykernel package so we can avoid doing imports until\n"
     ]
    },
    {
     "data": {
      "image/png": "[encoded data removed]",
      "text/plain": [
       "<Figure size 432x288 with 8 Axes>"
      ]
     },
     "metadata": {},
     "output_type": "display_data"
    }
   ],
   "source": [
    "plotW(W = W1, log=True)"
   ]
  },
  {
   "cell_type": "code",
   "execution_count": 13,
   "metadata": {},
   "outputs": [
    {
     "data": {
      "image/png": "[encoded data removed]",
      "text/plain": [
       "<Figure size 432x288 with 8 Axes>"
      ]
     },
     "metadata": {},
     "output_type": "display_data"
    }
   ],
   "source": [
    "plotH(H = H1, log=False)"
   ]
  }
 ],
 "metadata": {
  "kernelspec": {
   "display_name": "Python 3",
   "language": "python",
   "name": "python3"
  },
  "language_info": {
   "codemirror_mode": {
    "name": "ipython",
    "version": 3
   },
   "file_extension": ".py",
   "mimetype": "text/x-python",
   "name": "python",
   "nbconvert_exporter": "python",
   "pygments_lexer": "ipython3",
   "version": "3.6.5"
  }
 },
 "nbformat": 4,
 "nbformat_minor": 2
}
